{
  "nbformat": 4,
  "nbformat_minor": 0,
  "metadata": {
    "colab": {
      "provenance": []
    },
    "kernelspec": {
      "name": "python3",
      "display_name": "Python 3"
    },
    "language_info": {
      "name": "python"
    }
  },
  "cells": [
    {
      "cell_type": "code",
      "execution_count": null,
      "metadata": {
        "colab": {
          "base_uri": "https://localhost:8080/"
        },
        "id": "_JervnuUk-zs",
        "outputId": "fceb8072-e2ba-4ec0-934b-07612775cc75"
      },
      "outputs": [
        {
          "output_type": "stream",
          "name": "stdout",
          "text": [
            "Enter the first number: 10\n",
            "Enter the second number: 2\n",
            "Addition: 12.0\n",
            "Subtraction: 8.0\n",
            "Multiplication: 20.0\n",
            "Division: 5.0\n",
            "Floor Division: 5.0\n",
            "Modulus: 0.0\n",
            "Exponentiation: 100.0\n"
          ]
        }
      ],
      "source": [
        "# Ask the user to define two numbers\n",
        "a = float(input(\"Enter the first number: \"))\n",
        "b = float(input(\"Enter the second number: \"))\n",
        "\n",
        "# Addition (+): Adds two numbers\n",
        "print(\"Addition:\", a + b)\n",
        "\n",
        "# Subtraction (-): Subtracts the right number from the left number\n",
        "print(\"Subtraction:\", a - b)\n",
        "\n",
        "# Multiplication (*): Multiplies two numbers\n",
        "print(\"Multiplication:\", a * b)\n",
        "\n",
        "# Division (/): Divides the left number by the right number\n",
        "print(\"Division:\", a / b)\n",
        "\n",
        "# Floor Division (//): Divides and returns the largest integer less than or equal to the result\n",
        "print(\"Floor Division:\", a // b)\n",
        "\n",
        "# Modulus (%): Returns the remainder of the division\n",
        "print(\"Modulus:\", a % b)\n",
        "\n",
        "# Exponentiation (**): Raises the left number to the power of the right number\n",
        "print(\"Exponentiation:\", a ** b)"
      ]
    }
  ]
}