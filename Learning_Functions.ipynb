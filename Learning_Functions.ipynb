{
  "nbformat": 4,
  "nbformat_minor": 0,
  "metadata": {
    "colab": {
      "provenance": []
    },
    "kernelspec": {
      "name": "python3",
      "display_name": "Python 3"
    },
    "language_info": {
      "name": "python"
    }
  },
  "cells": [
    {
      "cell_type": "markdown",
      "source": [
        "Write a Python function to find the maximum of three numbers using max() function"
      ],
      "metadata": {
        "id": "CDaYpkdb4zrI"
      }
    },
    {
      "cell_type": "code",
      "source": [
        "# Define a function named num_max with default arguments a, b, and c set to 0\n",
        "def num_max(a=0, b=0, c=0):\n",
        "\n",
        "# Use Python's built-in max() function\n",
        "    return max(a, b, c)"
      ],
      "metadata": {
        "id": "9LngZsW93CVc"
      },
      "execution_count": null,
      "outputs": []
    },
    {
      "cell_type": "code",
      "source": [
        "# Call the function with arguments 1, 2, and 3\n",
        "print(num_max(1, 2, 3))\n",
        "\n",
        "# Call the function with arguments 5, 9, and 2\n",
        "print(num_max(5, 9, 2))\n",
        "\n",
        "# Call the function with all equal arguments\n",
        "print(num_max(3, 3, 3))"
      ],
      "metadata": {
        "id": "jCyHxcwd30Yl"
      },
      "execution_count": null,
      "outputs": []
    },
    {
      "cell_type": "markdown",
      "source": [
        "Write a Python function to find the maximum of three numbers without using max() function"
      ],
      "metadata": {
        "id": "gPjTPYYb4yZD"
      }
    },
    {
      "cell_type": "code",
      "execution_count": null,
      "metadata": {
        "id": "N3EKsiznymG6"
      },
      "outputs": [],
      "source": [
        "# Create function with default arguments a, b, c set to 0\n",
        "def num_max(a=0, b=0, c=0):\n",
        "\n",
        "    # Check if \"a\" is greater than or equal to both \"b\" and \"c\"\n",
        "    if a >= b and a >= c:\n",
        "        return a  # If true, return \"a\" as the maximum value\n",
        "\n",
        "    # If the above condition is false, check if \"b\" is greater than or equal to both \"a\" and \"c\"\n",
        "    elif b >= a and b >= c:\n",
        "        return b  # If true, return \"b\" as the maximum value\n",
        "\n",
        "    else:\n",
        "        return c  # If neither of the above conditions are true, return \"c\" as the maximum value"
      ]
    },
    {
      "cell_type": "code",
      "source": [
        "# Call the function with arguments 1, 2, 3\n",
        "print(num_max(1, 2, 3))\n",
        "\n",
        "# Call the function with arguments 7, 5, 4\n",
        "print(num_max(7, 5, 4))\n",
        "\n",
        "# Call the function with all equal arguments\n",
        "print(num_max(3, 3, 3))"
      ],
      "metadata": {
        "colab": {
          "base_uri": "https://localhost:8080/"
        },
        "id": "10BuaEnKysPJ",
        "outputId": "793edbb5-5808-4759-d093-1a7e3763379d"
      },
      "execution_count": null,
      "outputs": [
        {
          "output_type": "stream",
          "name": "stdout",
          "text": [
            "3\n",
            "7\n",
            "3\n"
          ]
        }
      ]
    }
  ]
}