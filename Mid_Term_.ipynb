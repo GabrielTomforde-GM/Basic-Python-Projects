{
  "nbformat": 4,
  "nbformat_minor": 0,
  "metadata": {
    "colab": {
      "provenance": []
    },
    "kernelspec": {
      "name": "python3",
      "display_name": "Python 3"
    },
    "language_info": {
      "name": "python"
    }
  },
  "cells": [
    {
      "cell_type": "markdown",
      "source": [
        "# Question 1:\n",
        "What is the difference between a list, tuple, and dictionary in Python? Provide an example for each."
      ],
      "metadata": {
        "id": "vugaxhF1ZlBY"
      }
    },
    {
      "cell_type": "markdown",
      "source": [
        "# List\n",
        "A list is defined with square brackets [ ]\n",
        "\n",
        "A list is mutable meaning elements can be added, removed, or changed.\n",
        "\n",
        "A list is ordered meaning Items maintain their writen order.\n",
        "\n",
        "A list allows for duplicates, you can store the same value multiple times.\n",
        "\n",
        "A list is indexed meaning it is Accessed via integer index starting at 0."
      ],
      "metadata": {
        "id": "wMo8lQSoaQGK"
      }
    },
    {
      "cell_type": "code",
      "execution_count": null,
      "metadata": {
        "colab": {
          "base_uri": "https://localhost:8080/"
        },
        "id": "G2KzIxddZjXN",
        "outputId": "669d18be-c4f4-4c0a-b828-9d73c4fde3aa"
      },
      "outputs": [
        {
          "output_type": "stream",
          "name": "stdout",
          "text": [
            "['apple', 'banana', 'cherry', 'date']\n",
            "['apple', 'blueberry', 'cherry', 'date']\n",
            "['apple', 'blueberry', 'date']\n"
          ]
        }
      ],
      "source": [
        "example_list = ['apple', 'banana', 'cherry']\n",
        "\n",
        "example_list.append('date')        # Adding an item\n",
        "print(example_list)\n",
        "\n",
        "example_list[1] = 'blueberry'      # Changing an item\n",
        "print(example_list)\n",
        "\n",
        "example_list.remove('cherry')      # Removing an item\n",
        "print(example_list)"
      ]
    },
    {
      "cell_type": "markdown",
      "source": [
        "#Tuple\n",
        "A tuple is defined with parenthesis ( )\n",
        "\n",
        "A tuple is Immutable meaning you cannot change, add, or remove elements.\n",
        "\n",
        "A tuple is ordered meaning Items maintain their writen order\n",
        "\n",
        "A tuple allows for duplicates, you can store the same value multiple times.\n",
        "\n",
        "A tuple is indexed meaning it is Accessed via integer index starting at 0."
      ],
      "metadata": {
        "id": "688pQw2FLyp-"
      }
    },
    {
      "cell_type": "code",
      "source": [
        "example_tuple = ('apple', 'banana', 'cherry')\n",
        "print(example_tuple)"
      ],
      "metadata": {
        "colab": {
          "base_uri": "https://localhost:8080/"
        },
        "id": "LA9CWyu4ODoZ",
        "outputId": "b8975060-16c7-4d99-914b-7f8725622df6"
      },
      "execution_count": null,
      "outputs": [
        {
          "output_type": "stream",
          "name": "stdout",
          "text": [
            "('apple', 'banana', 'cherry')\n"
          ]
        }
      ]
    },
    {
      "cell_type": "markdown",
      "source": [
        "# Dictionary\n",
        "A dictionary is defined with a curly bracket { }\n",
        "A dictionary has a key-value structure which can be used for mapping relationships.\n",
        "\n",
        "A dictionary is mutable meaning elements can be added, removed, or changed.\n",
        "\n",
        "A list has no duplicate elements, elements must be unique, though values can repeat."
      ],
      "metadata": {
        "id": "beZpXUJiOwJu"
      }
    },
    {
      "cell_type": "code",
      "source": [
        "example_dictionary = {'name': 'Alice', 'age': 25, 'job': 'Engineer'}\n",
        "example_dictionary['age'] = 26           # Updating a value\n",
        "example_dictionary['location'] = 'NYC'  # Adding a new key-value pair\n",
        "print(example_dictionary)"
      ],
      "metadata": {
        "colab": {
          "base_uri": "https://localhost:8080/"
        },
        "id": "ulriQhu_Q0r-",
        "outputId": "7a9831ca-f6b7-4366-9dd4-aac211632c0d"
      },
      "execution_count": null,
      "outputs": [
        {
          "output_type": "stream",
          "name": "stdout",
          "text": [
            "{'name': 'Alice', 'age': 26, 'job': 'Engineer', 'location': 'NYC'}\n"
          ]
        }
      ]
    },
    {
      "cell_type": "markdown",
      "source": [
        "# Question 2\n",
        "Explain the difference between break and continue statements in a loop with an example."
      ],
      "metadata": {
        "id": "UZTdo1VeR6iP"
      }
    },
    {
      "cell_type": "markdown",
      "source": [
        "# The break statment\n",
        "The break statement Immediately exits the loop either \"for\" or \"while\" loop when the condition is met.\n",
        "\n",
        "No further iterations are executed."
      ],
      "metadata": {
        "id": "cNGnHqS6SZZk"
      }
    },
    {
      "cell_type": "code",
      "source": [
        "# create a loop in ranege from 1 to 10\n",
        "for num in range(1, 10):\n",
        "\n",
        "    # Check if num is equal to 5\n",
        "    if num == 5:\n",
        "\n",
        "        # Exit the loop when num is 5\n",
        "        break\n",
        "\n",
        "    # Print the current number\n",
        "    print(num)"
      ],
      "metadata": {
        "colab": {
          "base_uri": "https://localhost:8080/"
        },
        "id": "X7RTRc4XS8Hv",
        "outputId": "f7c3074f-11cb-4733-89ab-df08f28866b9"
      },
      "execution_count": null,
      "outputs": [
        {
          "output_type": "stream",
          "name": "stdout",
          "text": [
            "1\n",
            "2\n",
            "3\n",
            "4\n"
          ]
        }
      ]
    },
    {
      "cell_type": "code",
      "source": [
        "# Initialize counter\n",
        "num = 1\n",
        "\n",
        "#Create a loop while num is less than 10\n",
        "while num < 10:\n",
        "\n",
        "    # Check if num is equal to 5\n",
        "    if num == 5:\n",
        "\n",
        "        # Exit the loop\n",
        "        break\n",
        "\n",
        "    # Print the current number\n",
        "    print(num)\n",
        "\n",
        "    # Increment the counter\n",
        "    num += 1"
      ],
      "metadata": {
        "colab": {
          "base_uri": "https://localhost:8080/"
        },
        "id": "803MxRZFV7HE",
        "outputId": "f6aa090c-8621-45be-e7fe-bedb9ece493f"
      },
      "execution_count": null,
      "outputs": [
        {
          "output_type": "stream",
          "name": "stdout",
          "text": [
            "1\n",
            "2\n",
            "3\n",
            "4\n"
          ]
        }
      ]
    },
    {
      "cell_type": "markdown",
      "source": [
        "# The continue statement\n",
        "The continue statement skips the current iteration and moves to the next iteration of the loop.\n",
        "\n",
        "The loop doesn't exit it just ignores the rest of the code for that iteration."
      ],
      "metadata": {
        "id": "Xcfd07YuT-5J"
      }
    },
    {
      "cell_type": "code",
      "source": [
        "# Create a loop in range from 1 to 10\n",
        "for num in range(1, 10):\n",
        "\n",
        "    # Check if num is equal to 5\n",
        "    if num == 5:\n",
        "\n",
        "        # Skip the rest of the loop body and continue with next iteration\n",
        "        continue\n",
        "\n",
        "    # Print the current number\n",
        "    print(num)"
      ],
      "metadata": {
        "colab": {
          "base_uri": "https://localhost:8080/"
        },
        "id": "ETyReQeMUmzD",
        "outputId": "cc7ab451-2746-4e8f-da63-23db2af703ec"
      },
      "execution_count": null,
      "outputs": [
        {
          "output_type": "stream",
          "name": "stdout",
          "text": [
            "1\n",
            "2\n",
            "3\n",
            "4\n",
            "6\n",
            "7\n",
            "8\n",
            "9\n"
          ]
        }
      ]
    },
    {
      "cell_type": "code",
      "source": [
        "# Initialize counter\n",
        "num = 0\n",
        "\n",
        "# Create a loop while num is less than 10\n",
        "while num < 10:\n",
        "\n",
        "    # Stoping condition\n",
        "    num += 1\n",
        "\n",
        "    # Check if num is equal to 5\n",
        "    if num == 5:\n",
        "\n",
        "        # Skip this iteration and continue with the next one\n",
        "        continue\n",
        "\n",
        "    # Print the current number\n",
        "    print(num)"
      ],
      "metadata": {
        "colab": {
          "base_uri": "https://localhost:8080/"
        },
        "id": "TlsR6dGJVVNx",
        "outputId": "5a8d0170-b624-4168-ab5b-5fe3cb61e27f"
      },
      "execution_count": null,
      "outputs": [
        {
          "output_type": "stream",
          "name": "stdout",
          "text": [
            "1\n",
            "2\n",
            "3\n",
            "4\n",
            "6\n",
            "7\n",
            "8\n",
            "9\n",
            "10\n"
          ]
        }
      ]
    },
    {
      "cell_type": "markdown",
      "source": [
        "# Question 3\n",
        "Write a Python program that takes an integer input from the user and prints whether it is even or odd."
      ],
      "metadata": {
        "id": "J1kTIyJqWXee"
      }
    },
    {
      "cell_type": "code",
      "source": [
        "# Ask the user to enter an integer\n",
        "num = int(input(\"Enter an integer: \"))\n",
        "\n",
        "# Check if the number is even\n",
        "if num % 2 == 0:\n",
        "    print(num, \"is even.\")  # If divisible by 2, it's even\n",
        "\n",
        "else:\n",
        "    print(num, \"is odd.\")   # Otherwise, it's odd"
      ],
      "metadata": {
        "colab": {
          "base_uri": "https://localhost:8080/"
        },
        "id": "5LOetkNsWmbw",
        "outputId": "e1502884-0827-424d-c8f6-b156a59d8319"
      },
      "execution_count": null,
      "outputs": [
        {
          "output_type": "stream",
          "name": "stdout",
          "text": [
            "Enter an integer: 4\n",
            "4 is even.\n"
          ]
        }
      ]
    },
    {
      "cell_type": "markdown",
      "source": [
        "# Question 4\n",
        "Write a Python program using a for loop to print all numbers from 1 to 50 that are divisible by 5."
      ],
      "metadata": {
        "id": "Gy2LNjBlXSb_"
      }
    },
    {
      "cell_type": "code",
      "source": [
        "# Loop through numbers from 1 to 50\n",
        "for num in range(1, 51):\n",
        "\n",
        "    # Check if the number is divisible by 5\n",
        "    if num % 5 == 0:\n",
        "\n",
        "        print(num)  # Print the number if it is divisible by 5"
      ],
      "metadata": {
        "colab": {
          "base_uri": "https://localhost:8080/"
        },
        "id": "s6NGdyY7Xiqv",
        "outputId": "4d66767e-bdbe-48ba-a87b-a0ae91d1d2b4"
      },
      "execution_count": null,
      "outputs": [
        {
          "output_type": "stream",
          "name": "stdout",
          "text": [
            "5\n",
            "10\n",
            "15\n",
            "20\n",
            "25\n",
            "30\n",
            "35\n",
            "40\n",
            "45\n",
            "50\n"
          ]
        }
      ]
    },
    {
      "cell_type": "markdown",
      "source": [
        "# Question 5\n",
        "Write a Python program using a while loop that asks the user for a number until they enter a negative number."
      ],
      "metadata": {
        "id": "O-uUL0p8Xr-I"
      }
    },
    {
      "cell_type": "code",
      "source": [
        "# Create an infinite loop\n",
        "while True:\n",
        "\n",
        "    # Ask the user to enter a number\n",
        "    num = int(input(\"Enter a number (negative number to quit): \"))\n",
        "\n",
        "    # Check if the number is negative\n",
        "    if num < 0:\n",
        "\n",
        "        # Break the loop if a negative number is entered\n",
        "        print(\"Negative number entered. Exiting the loop.\")\n",
        "        break"
      ],
      "metadata": {
        "colab": {
          "base_uri": "https://localhost:8080/"
        },
        "id": "ea6Lxkc6YV5L",
        "outputId": "b12e45d7-e39d-4d08-d438-7d688aff93e0"
      },
      "execution_count": null,
      "outputs": [
        {
          "output_type": "stream",
          "name": "stdout",
          "text": [
            "Enter a number (negative number to quit): -7\n",
            "Negative number entered. Exiting the loop.\n"
          ]
        }
      ]
    },
    {
      "cell_type": "markdown",
      "source": [
        "# Question 6\n",
        "Write a Python program that calculates the sum of all numbers from 1 to n, where n is taken as input from the user."
      ],
      "metadata": {
        "id": "xud9CUMZY4Z_"
      }
    },
    {
      "cell_type": "code",
      "source": [
        "# Ask the user to enter a positive number\n",
        "n = int(input(\"Enter a positive integer: \"))\n",
        "\n",
        "# Initialize the sum to 0\n",
        "total = 0\n",
        "\n",
        "# Loop from 1 to n\n",
        "for num in range(1, n + 1):\n",
        "    total += num  # Add each number to the total\n",
        "\n",
        "# Print the final sum\n",
        "print(\"The sum of numbers from 1 to\", n, \"is\", total)"
      ],
      "metadata": {
        "colab": {
          "base_uri": "https://localhost:8080/"
        },
        "id": "3BQNsBFhZlK9",
        "outputId": "3517ac33-b11f-497c-9b54-5a4008047ddc"
      },
      "execution_count": null,
      "outputs": [
        {
          "output_type": "stream",
          "name": "stdout",
          "text": [
            "Enter a positive integer: 14\n",
            "The sum of numbers from 1 to 14 is 105\n"
          ]
        }
      ]
    },
    {
      "cell_type": "markdown",
      "source": [
        "# Question 7\n",
        "Write a Python program to find the factorial of a given number using a loop."
      ],
      "metadata": {
        "id": "3JpQ8VsmZ_dF"
      }
    },
    {
      "cell_type": "code",
      "source": [
        "# Ask the user to enter a not negative number\n",
        "num = int(input(\"Enter a not negative number:\"))\n",
        "\n",
        "# Initialize the variable\n",
        "factorial = 1\n",
        "\n",
        "# Check if statment is true\n",
        "if num < 0:\n",
        "    print(\"Factorial is not defined for negative numbers.\")\n",
        "\n",
        "# If statement is not true then\n",
        "else:\n",
        "    # Multiply numbers from 1 to num\n",
        "    for i in range(1, num + 1):\n",
        "        factorial *= i  # Same as factorial = factorial * i\n",
        "\n",
        "    # Print the result\n",
        "    print(\"The factorial of\", num, \"is\", factorial)"
      ],
      "metadata": {
        "colab": {
          "base_uri": "https://localhost:8080/"
        },
        "id": "eWFJQ1SeZ-Z1",
        "outputId": "5ffd019d-6ecd-4a8f-eb5c-c4804ee83bc9"
      },
      "execution_count": null,
      "outputs": [
        {
          "output_type": "stream",
          "name": "stdout",
          "text": [
            "Enter a not negative number:5\n",
            "The factorial of 5 is 120\n"
          ]
        }
      ]
    },
    {
      "cell_type": "markdown",
      "source": [
        "# Question 8\n",
        "Write a Python function that takes a list of numbers and returns a new list containing only the even number"
      ],
      "metadata": {
        "id": "o-NCae9Xb-Jt"
      }
    },
    {
      "cell_type": "code",
      "source": [
        "# Define a function that accepts a list of numbers\n",
        "def get_even_numbers(numbers):\n",
        "\n",
        "    # Create an empty list to store even numbers\n",
        "    even_numbers = []\n",
        "\n",
        "    # Loop through each number in the input list\n",
        "    for num in numbers:\n",
        "        # Check if the number is even\n",
        "        if num % 2 == 0:\n",
        "            even_numbers.append(num)  # Add even number to the new list\n",
        "\n",
        "    # Return the list of even numbers\n",
        "    return even_numbers"
      ],
      "metadata": {
        "id": "BZHpNu8tcYqe"
      },
      "execution_count": null,
      "outputs": []
    },
    {
      "cell_type": "code",
      "source": [
        "example_list = [1, 2, 3, 4, 5, 6, 7, 8, 9, 10]\n",
        "\n",
        "# Call the function\n",
        "even_list = get_even_numbers(example_list)\n",
        "\n",
        "# Print the result\n",
        "print(\"Even numbers:\", even_list)"
      ],
      "metadata": {
        "colab": {
          "base_uri": "https://localhost:8080/"
        },
        "id": "ojQtmd4Hc1Uj",
        "outputId": "744149b9-15a0-45c2-b6df-63bd96633031"
      },
      "execution_count": null,
      "outputs": [
        {
          "output_type": "stream",
          "name": "stdout",
          "text": [
            "Even numbers: [2, 4, 6, 8, 10]\n"
          ]
        }
      ]
    },
    {
      "cell_type": "markdown",
      "source": [
        "# Question 9\n",
        "Write a Python program that removes all duplicate elements from a list and prints the unique elements."
      ],
      "metadata": {
        "id": "7GBSA0aWdOUh"
      }
    },
    {
      "cell_type": "code",
      "source": [
        "# list with duplicate elements\n",
        "Random_list = [1, 2, 2, 3, 4, 4, 5, 1, 6, 3]\n",
        "\n",
        "# Convert the list to a set to remove duplicates\n",
        "unique_set = set(Random_list)\n",
        "\n",
        "# Convert the set back to a list\n",
        "unique_list = list(unique_set)\n",
        "\n",
        "# Print the result\n",
        "print(\"Original list:\", Random_list)\n",
        "print(\"Unique elements:\", unique_list)"
      ],
      "metadata": {
        "colab": {
          "base_uri": "https://localhost:8080/"
        },
        "id": "2QKijdPDdajZ",
        "outputId": "9eda9159-a932-4ae3-acdc-ff2845fa5a8e"
      },
      "execution_count": null,
      "outputs": [
        {
          "output_type": "stream",
          "name": "stdout",
          "text": [
            "Original list: [1, 2, 2, 3, 4, 4, 5, 1, 6, 3]\n",
            "Unique elements: [1, 2, 3, 4, 5, 6]\n"
          ]
        }
      ]
    },
    {
      "cell_type": "markdown",
      "source": [
        "# Question 10\n",
        "Write a Python program that merges two lists and removes any duplicates from the combined list."
      ],
      "metadata": {
        "id": "bMeEC9JmeF1U"
      }
    },
    {
      "cell_type": "code",
      "source": [
        "# Define two sample lists\n",
        "list_1 = [1, 2, 3, 4, 5]\n",
        "list_2 = [4, 5, 6, 7, 8]\n",
        "\n",
        "# Merge the two lists using the + operator\n",
        "combined_list = list_1 + list_2\n",
        "\n",
        "# Remove duplicates by converting to a set, then back to a list\n",
        "unique_list = set(combined_list)\n",
        "combined_list = list(unique_list)\n",
        "\n",
        "\n",
        "# Print the original and final results\n",
        "print(\"List 1:\", list_1)\n",
        "print(\"List 2:\", list_2)\n",
        "print(\"Merged without duplicates:\", unique_list)"
      ],
      "metadata": {
        "colab": {
          "base_uri": "https://localhost:8080/"
        },
        "id": "wPhjU_tYePVk",
        "outputId": "7003efa5-d6fc-4243-c652-2f59525da0ce"
      },
      "execution_count": null,
      "outputs": [
        {
          "output_type": "stream",
          "name": "stdout",
          "text": [
            "List 1: [1, 2, 3, 4, 5]\n",
            "List 2: [4, 5, 6, 7, 8]\n",
            "Merged without duplicates: {1, 2, 3, 4, 5, 6, 7, 8}\n"
          ]
        }
      ]
    },
    {
      "cell_type": "markdown",
      "source": [
        "# Question 11\n",
        "Write a Python function that accepts a list of numbers and returns a new list with each number squared."
      ],
      "metadata": {
        "id": "GbUPNFgyf0A0"
      }
    },
    {
      "cell_type": "code",
      "source": [
        "# Define the function to square each number\n",
        "def square_numbers(numbers):\n",
        "\n",
        "    # Create a new list with squared values\n",
        "    squared = []\n",
        "\n",
        "    # Loop through each number in the input list\n",
        "    for num in numbers:\n",
        "        squared.append(num ** 2)  # Square the number and add it to the list\n",
        "\n",
        "    return squared  # Return the new list of squared numbers"
      ],
      "metadata": {
        "id": "7GjL3xgZgB7A"
      },
      "execution_count": null,
      "outputs": []
    },
    {
      "cell_type": "code",
      "source": [
        "# Sample list of numbers\n",
        "example_list = [1, 2, 3, 4, 5]\n",
        "\n",
        "# Call the function\n",
        "squared_list = square_numbers(example_list)\n",
        "\n",
        "# Print the result\n",
        "print(\"Original list:\", example_list)\n",
        "print(\"Squared list:\", squared_list)\n"
      ],
      "metadata": {
        "colab": {
          "base_uri": "https://localhost:8080/"
        },
        "id": "v5Ud70T4gqMi",
        "outputId": "e04cb8ec-7335-4c5d-84e4-14538cce455d"
      },
      "execution_count": null,
      "outputs": [
        {
          "output_type": "stream",
          "name": "stdout",
          "text": [
            "Original list: [1, 2, 3, 4, 5]\n",
            "Squared list: [1, 4, 9, 16, 25]\n"
          ]
        }
      ]
    },
    {
      "cell_type": "markdown",
      "source": [
        "# Question 12\n",
        "Write a Python program that takes a dictionary of student names as keys and their scores as values, then prints the student with the highest score."
      ],
      "metadata": {
        "id": "V3flPkCqifDK"
      }
    },
    {
      "cell_type": "code",
      "source": [
        "# Sample dictionary with student names and their scores\n",
        "student_scores = {\n",
        "    \"Alice\": 88,\n",
        "    \"Bob\": 93,\n",
        "    \"Charlie\": 72,\n",
        "    \"Diana\": 90,\n",
        "    \"Gabriel\": 100\n",
        "}\n",
        "\n",
        "# Initialize variables to keep track of the top student\n",
        "top_student = \"\"\n",
        "set_score = 0  # Start with a very low number\n",
        "\n",
        "# Loop through the dictionary items\n",
        "for name, score in student_scores.items():\n",
        "    if score > set_score:\n",
        "        set_score = score     # Update the highest score\n",
        "        top_student = name        # Update the top student\n",
        "\n",
        "# Print the result\n",
        "print(\"Top student:\", top_student)\n",
        "print(\"Highest score:\", set_score)"
      ],
      "metadata": {
        "colab": {
          "base_uri": "https://localhost:8080/"
        },
        "id": "T2cKpCtlkQAO",
        "outputId": "b99c1fdd-2804-4569-d8af-97d0769003c4"
      },
      "execution_count": null,
      "outputs": [
        {
          "output_type": "stream",
          "name": "stdout",
          "text": [
            "Top student: Gabriel\n",
            "Highest score: 100\n"
          ]
        }
      ]
    },
    {
      "cell_type": "markdown",
      "source": [
        "# Question 13\n",
        "Write a Python function that counts the occurrences of each word in a given string and stores the result in a dictionary."
      ],
      "metadata": {
        "id": "VpPAOZiwivSU"
      }
    },
    {
      "cell_type": "code",
      "source": [
        "def count_words(text):\n",
        "\n",
        "    # Split the string into words\n",
        "    words = text.split()\n",
        "\n",
        "    # Create an empty dictionary to store word counts\n",
        "    word_count = {}\n",
        "\n",
        "    # Loop through each word in the list\n",
        "    for word in words:\n",
        "\n",
        "        # If the word is already in the dictionary, increment its count\n",
        "        if word in word_count:\n",
        "            word_count[word] += 1\n",
        "\n",
        "        else:\n",
        "            # If it's not in the dictionary, add it with count 1\n",
        "            word_count[word] = 1\n",
        "\n",
        "    return word_count"
      ],
      "metadata": {
        "id": "J7Hky447lZSI"
      },
      "execution_count": null,
      "outputs": []
    },
    {
      "cell_type": "code",
      "source": [
        "text = \"This is an example. This example is not a very good example.\"\n",
        "\n",
        "# Remove punctuation for accurate word counting\n",
        "import string\n",
        "clean_text = text.translate(str.maketrans(\"\", \"\", string.punctuation))\n",
        "\n",
        "# Count the words\n",
        "result = count_words(clean_text)\n",
        "\n",
        "# Print the result\n",
        "print(\"Word counts:\", result)"
      ],
      "metadata": {
        "colab": {
          "base_uri": "https://localhost:8080/"
        },
        "id": "vUnhA8qvmAU9",
        "outputId": "552280f0-4981-4a6d-d548-f2b8daabc5f1"
      },
      "execution_count": null,
      "outputs": [
        {
          "output_type": "stream",
          "name": "stdout",
          "text": [
            "Word counts: {'This': 2, 'is': 2, 'an': 1, 'example': 3, 'not': 1, 'a': 1, 'very': 1, 'good': 1}\n"
          ]
        }
      ]
    },
    {
      "cell_type": "markdown",
      "source": [
        "# Question 14\n",
        "Write a Python program that takes a dictionary and reverses its keys and values (i.e., values become keys and vice versa)."
      ],
      "metadata": {
        "id": "piOJauszi1Tt"
      }
    },
    {
      "cell_type": "code",
      "source": [
        "# Sample dictionary\n",
        "original_dictionary = {\n",
        "    'a': 1,\n",
        "    'b': 2,\n",
        "    'c': 3,\n",
        "    'd': 4,\n",
        "    'e': 5,\n",
        "    'f': 6\n",
        "}\n",
        "\n",
        "# Create a new dictionary with keys and values swapped\n",
        "reversed_dictionary = {}\n",
        "\n",
        "# Loop through each key-value pair in the original dictionary\n",
        "for key, value in original_dictionary.items():\n",
        "\n",
        "    # Set value as key and key as value in the new dictionary\n",
        "    reversed_dictionary[value] = key\n",
        "\n",
        "# Print the results\n",
        "print(\"Original dictionary:\", original_dictionary)\n",
        "print(\"Reversed dictionary:\", reversed_dictionary)"
      ],
      "metadata": {
        "colab": {
          "base_uri": "https://localhost:8080/"
        },
        "id": "C85PaNWronXY",
        "outputId": "25656e49-eeb3-49a6-c7e0-8c84fddc9967"
      },
      "execution_count": null,
      "outputs": [
        {
          "output_type": "stream",
          "name": "stdout",
          "text": [
            "Original dictionary: {'a': 1, 'b': 2, 'c': 3, 'd': 4, 'e': 5, 'f': 6}\n",
            "Reversed dictionary: {1: 'a', 2: 'b', 3: 'c', 4: 'd', 5: 'e', 6: 'f'}\n"
          ]
        }
      ]
    },
    {
      "cell_type": "markdown",
      "source": [
        "# Question 15\n",
        "Write a Python program that merges two dictionaries, adding values for common keys instead of overwriting them."
      ],
      "metadata": {
        "id": "D-DN2S2bi8m2"
      }
    },
    {
      "cell_type": "code",
      "source": [
        "# Sample dictionaries\n",
        "dictionary1 = {'a': 5, 'b': 3, 'c': 7}\n",
        "dictionary2 = {'b': 4, 'c': 2, 'd': 6}\n",
        "\n",
        "# Create a new dictionary to store the merged result\n",
        "merged_dictionary = {}\n",
        "\n",
        "# Add all items from the first dictionary\n",
        "for key in dictionary1:\n",
        "    merged_dictionary[key] = dictionary1[key]\n",
        "\n",
        "# Add items from the second dictionary\n",
        "for key in dictionary2:\n",
        "    if key in merged_dictionary:\n",
        "        merged_dictionary[key] += dictionary2[key]  # Add values for common keys\n",
        "\n",
        "    else:\n",
        "        merged_dictionary[key] = dictionary2[key]   # Add new key-value pairs\n",
        "\n",
        "# Print the result\n",
        "print(\"Merged dictionary:\", merged_dictionary)"
      ],
      "metadata": {
        "id": "pKruArC2pjOs"
      },
      "execution_count": null,
      "outputs": []
    },
    {
      "cell_type": "markdown",
      "source": [
        "# Question 16\n",
        "Write a Python program that converts a given list into a tuple."
      ],
      "metadata": {
        "id": "v-X2PWSKjDDs"
      }
    },
    {
      "cell_type": "code",
      "source": [
        "# create a sample list\n",
        "my_list = [10, 20, 30, 40, 50]\n",
        "\n",
        "# Convert the list to a tuple using the tuple() function\n",
        "my_tuple = tuple(my_list)\n",
        "\n",
        "# Print the original list and the converted tuple\n",
        "print(\"Original list:\", my_list)\n",
        "print(\"Converted tuple:\", my_tuple)"
      ],
      "metadata": {
        "colab": {
          "base_uri": "https://localhost:8080/"
        },
        "id": "ONykOIseqKNw",
        "outputId": "ba14553c-e226-48ce-a600-5b228c9e0142"
      },
      "execution_count": null,
      "outputs": [
        {
          "output_type": "stream",
          "name": "stdout",
          "text": [
            "Original list: [10, 20, 30, 40, 50]\n",
            "Converted tuple: (10, 20, 30, 40, 50)\n"
          ]
        }
      ]
    },
    {
      "cell_type": "markdown",
      "source": [
        "# Question 17\n",
        "Write a Python program that takes a tuple of numbers and returns a new tuple containing only the odd numbers."
      ],
      "metadata": {
        "id": "7yX6wwbRjJ5m"
      }
    },
    {
      "cell_type": "code",
      "source": [
        "# Define a sample tuple of numbers\n",
        "Og_tuple = (1, 2, 3, 4, 5, 6, 7, 8, 9, 10)\n",
        "\n",
        "# Create a list to store odd numbers\n",
        "odd_numbers = []\n",
        "\n",
        "# Loop through each number in the original tuple\n",
        "for num in Og_tuple:\n",
        "    if num % 2 != 0:\n",
        "        odd_numbers.append(num)  # Add odd number to the list\n",
        "\n",
        "# Convert the list back to a tuple\n",
        "odd_tuple = tuple(odd_numbers)\n",
        "\n",
        "# Print the results\n",
        "print(\"Original tuple:\", Og_tuple)\n",
        "print(\"Odd numbers tuple:\", odd_tuple)"
      ],
      "metadata": {
        "colab": {
          "base_uri": "https://localhost:8080/"
        },
        "id": "xM_ZuXJkqbas",
        "outputId": "d09ebba1-84c8-4135-f8d6-24c23778131f"
      },
      "execution_count": null,
      "outputs": [
        {
          "output_type": "stream",
          "name": "stdout",
          "text": [
            "Original tuple: (1, 2, 3, 4, 5, 6, 7, 8, 9, 10)\n",
            "Odd numbers tuple: (1, 3, 5, 7, 9)\n"
          ]
        }
      ]
    },
    {
      "cell_type": "markdown",
      "source": [
        "# question 18\n",
        "Write a Python function that finds the second largest element in a given tuple."
      ],
      "metadata": {
        "id": "_hNLxXlKjKK-"
      }
    },
    {
      "cell_type": "code",
      "source": [
        "def second_largest(tup):\n",
        "\n",
        "    # Convert the tuple to a set to remove duplicates\n",
        "    unique_values = set(tup)\n",
        "\n",
        "    # Check if there are at least two unique elements\n",
        "    if len(unique_values) < 2:\n",
        "\n",
        "        return None  # No second largest element exists\n",
        "\n",
        "    # Remove the largest element\n",
        "    unique_values.remove(max(unique_values))\n",
        "\n",
        "    # Return the next largest element\n",
        "    return max(unique_values)"
      ],
      "metadata": {
        "id": "gg5iJlk5rl9V"
      },
      "execution_count": null,
      "outputs": []
    },
    {
      "cell_type": "code",
      "source": [
        "# Example tuple\n",
        "my_tuple = (4, 7, 2, 9, 5, 9)\n",
        "\n",
        "# Call the function and print the result\n",
        "result = second_largest(my_tuple)\n",
        "\n",
        "if result is not None:\n",
        "    print(\"Second largest element:\", result)\n",
        "else:\n",
        "    print(\"Not enough unique elements to determine second largest.\")"
      ],
      "metadata": {
        "colab": {
          "base_uri": "https://localhost:8080/"
        },
        "id": "vACSnie_rvJ5",
        "outputId": "47f725f8-f179-44d4-b7bf-cb1fc677f253"
      },
      "execution_count": null,
      "outputs": [
        {
          "output_type": "stream",
          "name": "stdout",
          "text": [
            "Second largest element: 7\n"
          ]
        }
      ]
    },
    {
      "cell_type": "markdown",
      "source": [
        "# Question 19\n",
        "Write a Python program that prints the Fibonacci sequence up to n terms, where n is an input from the user."
      ],
      "metadata": {
        "id": "AFcokxzyjKYQ"
      }
    },
    {
      "cell_type": "code",
      "source": [
        "# Ask the user to enter the number of terms\n",
        "n = int(input(\"Enter the number of Fibonacci terms to print: \"))\n",
        "\n",
        "# First two Fibonacci numbers\n",
        "a = 0\n",
        "b = 1\n",
        "\n",
        "# Counter to keep track of how many terms are printed\n",
        "count = 0\n",
        "\n",
        "# Check if the input is valid\n",
        "if n <= 0:\n",
        "    print(\"Please enter a positive integer.\")\n",
        "\n",
        "elif n == 1:\n",
        "    print(\"Fibonacci sequence up to\", n, \"term:\")\n",
        "    print(a)\n",
        "\n",
        "else:\n",
        "    print(\"Fibonacci sequence up to\", n, \"terms:\")\n",
        "    while count < n:\n",
        "        print(a)\n",
        "\n",
        "        # Update values for next term\n",
        "        next_term = a + b\n",
        "        a = b\n",
        "        b = next_term\n",
        "        count += 1"
      ],
      "metadata": {
        "colab": {
          "base_uri": "https://localhost:8080/"
        },
        "id": "rBHwxOYNsXZO",
        "outputId": "13ff5c7c-f531-4d13-f5f2-4d45ac6e51e9"
      },
      "execution_count": null,
      "outputs": [
        {
          "output_type": "stream",
          "name": "stdout",
          "text": [
            "Enter the number of Fibonacci terms to print: 20\n",
            "Fibonacci sequence up to 20 terms:\n",
            "0\n",
            "1\n",
            "1\n",
            "2\n",
            "3\n",
            "5\n",
            "8\n",
            "13\n",
            "21\n",
            "34\n",
            "55\n",
            "89\n",
            "144\n",
            "233\n",
            "377\n",
            "610\n",
            "987\n",
            "1597\n",
            "2584\n",
            "4181\n"
          ]
        }
      ]
    },
    {
      "cell_type": "markdown",
      "source": [
        "# Question 20\n",
        "Write a Python program that takes a list of numbers as input and creates a dictionary where:\n",
        "\n",
        "The keys are the unique numbers from the list.\n",
        "\n",
        "The values are the number of times each number appears in the list.\n",
        "\n",
        "Example Input:\n",
        "\n",
        "numbers = [4, 2, 4, 5, 6, 2, 4, 6, 7, 2]"
      ],
      "metadata": {
        "id": "wg_PCpevjjTY"
      }
    },
    {
      "cell_type": "code",
      "source": [
        "# Sample input list\n",
        "numbers = [4, 2, 4, 5, 6, 2, 4, 6, 7, 2]\n",
        "\n",
        "# Create an empty dictionary to store counts\n",
        "count_dict = {}\n",
        "\n",
        "# Loop through each number in the list\n",
        "for num in numbers:\n",
        "    if num in count_dict:\n",
        "        count_dict[num] += 1  # Increment count if already exists\n",
        "    else:\n",
        "        count_dict[num] = 1   # Initialize count to 1\n",
        "\n",
        "# Print the resulting dictionary\n",
        "print(\"Number frequencies:\", count_dict)"
      ],
      "metadata": {
        "colab": {
          "base_uri": "https://localhost:8080/"
        },
        "id": "EVnqFWXUs2ds",
        "outputId": "3f3ec633-40c5-471e-a71b-251ece84dc99"
      },
      "execution_count": null,
      "outputs": [
        {
          "output_type": "stream",
          "name": "stdout",
          "text": [
            "Number frequencies: {4: 3, 2: 3, 5: 1, 6: 2, 7: 1}\n"
          ]
        }
      ]
    }
  ]
}