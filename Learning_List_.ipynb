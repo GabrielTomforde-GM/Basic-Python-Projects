{
  "nbformat": 4,
  "nbformat_minor": 0,
  "metadata": {
    "colab": {
      "provenance": []
    },
    "kernelspec": {
      "name": "python3",
      "display_name": "Python 3"
    },
    "language_info": {
      "name": "python"
    }
  },
  "cells": [
    {
      "cell_type": "code",
      "execution_count": null,
      "metadata": {
        "colab": {
          "base_uri": "https://localhost:8080/"
        },
        "id": "zlTF8sgPCEmc",
        "outputId": "e7e9d1f8-a6f7-4029-8e7c-7b00227f7a38"
      },
      "outputs": [
        {
          "output_type": "stream",
          "name": "stdout",
          "text": [
            "[5, 10, 15, 200, 25, 50, 20]\n"
          ]
        }
      ],
      "source": [
        "# Given list\n",
        "list1 = [5, 10, 15, 20, 25, 50, 20]\n",
        "\n",
        "# Replace the first occurrence of 20 (at index 3) with 200\n",
        "list1[3] = 200\n",
        "\n",
        "# Print the updated list\n",
        "print(list1)"
      ]
    },
    {
      "cell_type": "code",
      "source": [
        "# Given list\n",
        "list1 = [5, 20, 15, 20, 25, 50, 20]\n",
        "\n",
        "# Delete the first occurrence of 20 (at index 1)\n",
        "del list1[1]\n",
        "\n",
        "# Delete the next occurrence of 20 (which has shifted to index 2)\n",
        "del list1[2]\n",
        "\n",
        "# Delete the last occurrence of 20 (now at the end of the list)\n",
        "del list1[-1]\n",
        "\n",
        "# Print the final list with all 20s removed\n",
        "print(list1)"
      ],
      "metadata": {
        "colab": {
          "base_uri": "https://localhost:8080/"
        },
        "id": "dW5iHoOhRfyk",
        "outputId": "e73f9100-294d-4085-8d1a-9e4a4c807938"
      },
      "execution_count": null,
      "outputs": [
        {
          "output_type": "stream",
          "name": "stdout",
          "text": [
            "[5, 15, 25, 50]\n"
          ]
        }
      ]
    }
  ]
}