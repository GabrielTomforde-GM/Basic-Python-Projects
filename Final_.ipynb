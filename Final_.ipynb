{
  "nbformat": 4,
  "nbformat_minor": 0,
  "metadata": {
    "colab": {
      "provenance": []
    },
    "kernelspec": {
      "name": "python3",
      "display_name": "Python 3"
    },
    "language_info": {
      "name": "python"
    }
  },
  "cells": [
    {
      "cell_type": "markdown",
      "source": [
        "# Basic Question (1 Question * 1  = 1)"
      ],
      "metadata": {
        "id": "vXDyhiVTDXcN"
      }
    },
    {
      "cell_type": "markdown",
      "source": [
        "Theory: What did you gain from this course? How can this course be improved?"
      ],
      "metadata": {
        "id": "kcZDUZZnG-r-"
      }
    },
    {
      "cell_type": "markdown",
      "source": [
        "When I started this course, I knew next to nothing about computer science; now I can confidently choose and apply operators, structure programs with loops and conditionals, write functions to encapsulate logic, implement basic sorting techniques, and handle errors gracefully. More importantly, I learned to think algorithmically breaking problems down, planning solutions, testing iteratively, and refining my approach. With continued practice, these patterns will become instinctive.\n",
        "\n",
        "One improvement I’d suggest is a curated archive of practice problems that emphasize critical thinking and implementation strategy. If these were organized by topic and difficulty, included optional hints and multiple solution outlines, and provided test cases for verification, they would strengthen the bridge between theory and hands-on coding."
      ],
      "metadata": {
        "id": "BWRaqjco5DMH"
      }
    },
    {
      "cell_type": "markdown",
      "source": [
        "# Python Data Structure / Data Type (3 Questions * 1 = 3)"
      ],
      "metadata": {
        "id": "380Tyg-nD3A3"
      }
    },
    {
      "cell_type": "markdown",
      "source": [
        "Theory: Explain the difference between a list and a tuple in Python."
      ],
      "metadata": {
        "id": "B32kkqMbD5YR"
      }
    },
    {
      "cell_type": "markdown",
      "source": [
        "In Python, lists and tuples are both ordered, indexable, and sliceable sequences that allow duplicates and mixed types, but they differ in syntax and behavior. A list is written with square brackets, like [ … ], while a tuple uses parenthese like ( … ). The key behavioral difference is mutability: lists are mutable, so their contents can be added to, removed from, or reassigned after creation; tuples are immutable, so once defined, their contents cannot change. Because of this immutability, tuples generally use slightly less memory and can be a bit faster to iterate over, making them well suited for fixed, read-only data."
      ],
      "metadata": {
        "id": "RbigTg1PLoL6"
      }
    },
    {
      "cell_type": "markdown",
      "source": [
        "Coding: Write a Python program to find the largest element in a list."
      ],
      "metadata": {
        "id": "7q6vdLqvD9P1"
      }
    },
    {
      "cell_type": "code",
      "source": [
        "def largest_element(nums):                                     # Define a function that returns the largest value in nums\n",
        "    if not nums:                                               # If the input list is empty\n",
        "        raise ValueError(\"Empty list has no largest element.\") # Explain the error to the user\n",
        "\n",
        "    largest = nums[0]   # Start by assuming the first item is the largest\n",
        "\n",
        "    for x in nums[1:]:  # Loop through the remaining elements\n",
        "        if x > largest: # If the current item is larger than what we have stored\n",
        "            largest = x # Update largest to this new larger value\n",
        "\n",
        "    return largest      # After the loop, return the largest value found"
      ],
      "metadata": {
        "id": "_Fs1mceX2MFa"
      },
      "execution_count": null,
      "outputs": []
    },
    {
      "cell_type": "code",
      "source": [
        "data = [11, -8, 7, 44, 3, 39, 0]         # Define the list of numbers to examine\n",
        "print(\"Largest:\", largest_element(data)) # Call largest_element on the list and print the result"
      ],
      "metadata": {
        "colab": {
          "base_uri": "https://localhost:8080/"
        },
        "id": "svRkUdL35zRV",
        "outputId": "6c759c05-43f4-453b-e42c-7735882598cd"
      },
      "execution_count": null,
      "outputs": [
        {
          "output_type": "stream",
          "name": "stdout",
          "text": [
            "Largest: 44\n"
          ]
        }
      ]
    },
    {
      "cell_type": "code",
      "source": [
        "data = [13, -10, 9, 45, 3, 49, 0]   # Define the list of numbers to search\n",
        "\n",
        "if not data:                                                # If the list is empty\n",
        "    raise ValueError(\"Empty list has no largest element.\")  # Explain the error to the user\n",
        "\n",
        "largest = data[0]          # Start by assuming the first item is the largest\n",
        "\n",
        "for x in data[1:]:         # Loop through the remaining elements\n",
        "    if x > largest:        # If the current item is larger than what we have stored\n",
        "        largest = x        # Update largest to this new larger value\n",
        "\n",
        "print(\"Largest:\", largest) # After the loop, print the largest value found"
      ],
      "metadata": {
        "colab": {
          "base_uri": "https://localhost:8080/"
        },
        "id": "fYnzgO0u5iu2",
        "outputId": "6c31bbd9-bcc6-4039-9c0c-a7f113e50c45"
      },
      "execution_count": null,
      "outputs": [
        {
          "output_type": "stream",
          "name": "stdout",
          "text": [
            "Largest: 49\n"
          ]
        }
      ]
    },
    {
      "cell_type": "markdown",
      "source": [
        "Coding: Create a dictionary with three keys and values of your choice, then print each key-value pair."
      ],
      "metadata": {
        "id": "IaEUKEPxECSI"
      }
    },
    {
      "cell_type": "code",
      "source": [
        "# Create a dictionary with three keys and values of your choice then print each key-value pair.\n",
        "\n",
        "levels = {           # Create a dictionary mapping names to their levels\n",
        "    \"Gabriel\": 81,   # Key \"Gabriel\" has value 81\n",
        "    \"Joeseph\": 54,   # Key \"Joeseph\" has value 54\n",
        "    \"Tomforde\": 27   # Key \"Tomforde\" has value 27\n",
        "}\n",
        "\n",
        "# Print each key-value pair\n",
        "for name, level in levels.items():       # Loop over key and value pairs from the dictionary\n",
        "    print(name + \" level \" + str(level)) # Build a string name & literal & numeric level, converted to str and print"
      ],
      "metadata": {
        "colab": {
          "base_uri": "https://localhost:8080/"
        },
        "id": "Uy32tiLS9pCe",
        "outputId": "4f2815d2-1870-4281-96e2-bb1642f683af"
      },
      "execution_count": null,
      "outputs": [
        {
          "output_type": "stream",
          "name": "stdout",
          "text": [
            "Gabriel level 81\n",
            "Joeseph level 54\n",
            "Tomforde level 27\n"
          ]
        }
      ]
    },
    {
      "cell_type": "markdown",
      "source": [
        "# Python Control Statement (4 Questions * 2 = 8)"
      ],
      "metadata": {
        "id": "nVn9uXdIEP5V"
      }
    },
    {
      "cell_type": "markdown",
      "source": [
        "Theory: What is the purpose of the if-elif-else statement in Python?"
      ],
      "metadata": {
        "id": "wsDeikrvEKBS"
      }
    },
    {
      "cell_type": "markdown",
      "source": [
        "The if-elif-else statement in Python provides structured, readable decision-making so a program can choose exactly one course of action based on conditions. The if tests the first Boolean expression, if it’s true, that block runs and all remaining elif and else statements are skipped. If not, evaluation proceeds top-down through any number of elif (else-if) statements, each an alternative, mutually exclusive condition. If none match, the optional else serves as a catch-all for everything else."
      ],
      "metadata": {
        "id": "oL7E8oscNehr"
      }
    },
    {
      "cell_type": "markdown",
      "source": [
        "Coding: Write a Python program that checks if a number is positive, negative, or zero."
      ],
      "metadata": {
        "id": "ZwDUBr2XEVPY"
      }
    },
    {
      "cell_type": "code",
      "source": [
        "# Write a Python program that checks if a number is positive, negative, or zero.\n",
        "\n",
        "G = float(input(\"Enter a number: \")) # prompt the user to enter a number and convert it to float\n",
        "\n",
        "if G > 0:                            # check whether the number is greater than zero\n",
        "    print(\"This number is Positive\") # if true, print \"This number is Positive\"\n",
        "\n",
        "elif G < 0:                          # check whether the number is less than zero\n",
        "    print(\"This number is Negative\") # if true, print \"This number is Negative\"\n",
        "\n",
        "else:                                # if neither greater nor less, it must be exactly zero\n",
        "    print(\"This number is Zero\")     # print \"This number is Zero\"\n",
        "\n"
      ],
      "metadata": {
        "colab": {
          "base_uri": "https://localhost:8080/"
        },
        "id": "PMiXdh64U5Cg",
        "outputId": "99b6e700-ec6f-4a36-d020-fb3c3294237a"
      },
      "execution_count": null,
      "outputs": [
        {
          "output_type": "stream",
          "name": "stdout",
          "text": [
            "Enter a number: 50\n",
            "This number is Positive\n"
          ]
        }
      ]
    },
    {
      "cell_type": "markdown",
      "source": [
        "Coding: Write a Python program to determine whether a given year is a leap year."
      ],
      "metadata": {
        "id": "1Us4PWzvEfJY"
      }
    },
    {
      "cell_type": "code",
      "source": [
        "# Write a Python program to determine whether a given year is a leap year.\n",
        "\n",
        "year = int(input(\"Enter a year: \")) # prompt the user to enter a year and convert it to integer\n",
        "\n",
        "# Leap year rule\n",
        "# divisible by 4 = leap year.\n",
        "# except divisible by 100 = not a leap year.\n",
        "# except divisible by 400 = leap year.\n",
        "\n",
        "if (year % 4 == 0) and ((year % 100 != 0) or (year % 400 == 0)): # apply the rule using modulos (%) remainders\n",
        "    print(\"it is a leap year\")                                   # if condition is True, print \"it is a leap year\"\n",
        "\n",
        "else:                                                            # otherwise\n",
        "    print(\"it is not a leap year\")                               # print it is not a leap year"
      ],
      "metadata": {
        "colab": {
          "base_uri": "https://localhost:8080/"
        },
        "id": "JvYl2-WOZhyB",
        "outputId": "1b2aec50-f326-49aa-b39b-35ca56d0efd0"
      },
      "execution_count": null,
      "outputs": [
        {
          "output_type": "stream",
          "name": "stdout",
          "text": [
            "Enter a year: 2028\n",
            "it is a leap year\n"
          ]
        }
      ]
    },
    {
      "cell_type": "markdown",
      "source": [
        "Coding: Write a Python program to check if a given character is a vowel or consonant."
      ],
      "metadata": {
        "id": "m3BNHefyEa1I"
      }
    },
    {
      "cell_type": "code",
      "source": [
        "# Write a Python program to check if a given character is a vowel or consonant.\n",
        "\n",
        "character = input(\"Enter a single character: \") # Prompt the user to input a character\n",
        "G = character[:1].lower()                       # Keep only the first character and lowercase it\n",
        "\n",
        "vowels = \"aeiou\"                                # Define the set of vowels\n",
        "letters = \"abcdefghijklmnopqrstuvwxyz\"          # Define all lowercase letters\n",
        "\n",
        "if G == \"\":                                     # If nothing was entered\n",
        "    print(\"No input provided.\")                 # Print \"No input provided\"\n",
        "\n",
        "elif G in vowels:                               # If the character is one of the vowels\n",
        "    print(\"The character is a vowel\")           # Print \"The character is a vowel\"\n",
        "\n",
        "elif G in letters:                              # If the character is a letter but not a vowel\n",
        "    print(\"The character is a consonant\")       # Print \"The character is a consonant\"\n",
        "\n",
        "else:                                           # Otherwise if it’s not in the alphabet at all\n",
        "    print(\"Input is not a letter\")              # print \"Input is not a letter\""
      ],
      "metadata": {
        "id": "1HQ9KdZded1b",
        "colab": {
          "base_uri": "https://localhost:8080/"
        },
        "outputId": "da939c46-7b63-4762-c075-342ea2df91d5"
      },
      "execution_count": null,
      "outputs": [
        {
          "output_type": "stream",
          "name": "stdout",
          "text": [
            "Enter a single character: a\n",
            "The character is a vowel\n"
          ]
        }
      ]
    },
    {
      "cell_type": "markdown",
      "source": [
        "# Python Loop (4 Questions * 2 = 8)"
      ],
      "metadata": {
        "id": "9PEauOo-Ezbu"
      }
    },
    {
      "cell_type": "markdown",
      "source": [
        "Theory: Describe the difference between a for loop and a while loop."
      ],
      "metadata": {
        "id": "KasqXOb2E2T1"
      }
    },
    {
      "cell_type": "markdown",
      "source": [
        "In Python, a for loop is for definite iteration, it automatically walks through each element of an iterable (like a list, string, or range) and stops when the iterable is exhausted. A while loop is for indefinite iteration, it keeps running as long as its Boolean condition remains True, so you must change some state inside the loop to eventually make that condition False otherwise you risk an infinite loop. In practice, use for when you already know the set or count of things to process, and use while when repetition depends on runtime conditions. Both loops support break to exit early, continue to skip to the next iteration, and an optional else that runs only if the loop wasn’t ended with break."
      ],
      "metadata": {
        "id": "KO5X68XOPuIy"
      }
    },
    {
      "cell_type": "markdown",
      "source": [
        "Coding: Create a Python program that prints all the prime numbers between 1 and 100 (1 and 100 both inclusive)."
      ],
      "metadata": {
        "id": "dX1a0qiTE2qc"
      }
    },
    {
      "cell_type": "code",
      "source": [
        "# Create a Python program that prints all the prime numbers between 1 and 100 (1 and 100 both inclusive).\n",
        "\n",
        "for G in range(1, 101):      # iterate over every integer from 1 through 100\n",
        "    if G < 2:                # 0 and 1 are not prime numbers\n",
        "        continue             # skip to the next number\n",
        "\n",
        "    is_prime = True          # Assume G is prime until we find a divisor\n",
        "    d = 2                    # start testing possible divisors from 2\n",
        "\n",
        "    while d * d <= G:        # only need to test up to sqrt(G)\n",
        "        if G % d == 0:       # if G is divisible by d, d is a factor\n",
        "            is_prime = False # mark G as not prime\n",
        "            break            # no need to check more divisors\n",
        "        d += 1               # try the next potential divisor\n",
        "\n",
        "    if is_prime:             # after testing all necessary divisors\n",
        "        print(G)             # print G if it remained prime"
      ],
      "metadata": {
        "colab": {
          "base_uri": "https://localhost:8080/"
        },
        "id": "yLgR30_PxVxL",
        "outputId": "6befad25-be0e-4467-fee4-67211ada95b6"
      },
      "execution_count": null,
      "outputs": [
        {
          "output_type": "stream",
          "name": "stdout",
          "text": [
            "2\n",
            "3\n",
            "5\n",
            "7\n",
            "11\n",
            "13\n",
            "17\n",
            "19\n",
            "23\n",
            "29\n",
            "31\n",
            "37\n",
            "41\n",
            "43\n",
            "47\n",
            "53\n",
            "59\n",
            "61\n",
            "67\n",
            "71\n",
            "73\n",
            "79\n",
            "83\n",
            "89\n",
            "97\n"
          ]
        }
      ]
    },
    {
      "cell_type": "markdown",
      "source": [
        "Coding: Write a Python program to calculate the factorial of a given number using a loop."
      ],
      "metadata": {
        "id": "_0qrulSRE4Ko"
      }
    },
    {
      "cell_type": "code",
      "source": [
        "# Write a Python program to calculate the factorial of a given number using a loop.\n",
        "\n",
        "G = int(input(\"Enter a non-negative integer: \"))            # prompt the user to input a non-negative integer, convert it to an integer\n",
        "\n",
        "if G < 0:                                                   # check if the number is negative\n",
        "    print(\"Factorial is not defined for negative numbers.\") # Print \"Factorial is not defined for negative numbers.\"\n",
        "\n",
        "else:                                                    # otherwise, the number is 0 or positive\n",
        "    fact = 1                                             # start the running product at 1\n",
        "\n",
        "    for i in range(2, G + 1):                            # loop from 2 up to and including G\n",
        "        fact = fact * i                                  # multiply the running product by the current i\n",
        "\n",
        "    print(\"Factorial of \" + str(G) + \" is \" + str(fact)) # Convert G and factorial to strings, and print factorial"
      ],
      "metadata": {
        "colab": {
          "base_uri": "https://localhost:8080/"
        },
        "id": "wK5pGXqhz6sj",
        "outputId": "a10ce95e-275c-45df-9206-b1447f7b4964"
      },
      "execution_count": null,
      "outputs": [
        {
          "output_type": "stream",
          "name": "stdout",
          "text": [
            "Enter a non-negative integer: 5\n",
            "Factorial of 5 is 120\n"
          ]
        }
      ]
    },
    {
      "cell_type": "code",
      "source": [
        "# Write a Python program to calculate the factorial of a given number using a loop.\n",
        "\n",
        "G = int(input(\"Enter a non-negative integer: \"))            # prompt the user for a whole number and convert the input to integer\n",
        "\n",
        "if G < 0:                                                   # check if the number is negative\n",
        "    print(\"Factorial is not defined for negative numbers.\") # Print \"Factorial is not defined for negative numbers.\"\n",
        "\n",
        "\n",
        "else:                             # otherwise, the number is 0 or positive\n",
        "    fact = 1                      # start the running product at 1\n",
        "\n",
        "    if G == 0:                    # handle the special case 0!\n",
        "        print(\"0! = 1\")           # display the result directly for 0!\n",
        "\n",
        "    else:                         # for G >= 1, show each multiplication step\n",
        "        for i in range(1, G + 1): # iterate i through 1-G\n",
        "            before = fact         # remember the product before this step\n",
        "            fact = fact * i       # update the running product by multiplying by i\n",
        "\n",
        "            print(str(before) + \" x \" + str(i) + \" = \" + str(fact)) # show the calculation performed at this step\n",
        "\n",
        "        print(\"Factorial of \" + str(G) + \" is \" + str(fact)) # after the loop, display the final factorial value"
      ],
      "metadata": {
        "colab": {
          "base_uri": "https://localhost:8080/"
        },
        "id": "c38hFpQx4gf1",
        "outputId": "21403d16-8420-415d-a513-2dce2713c3cd"
      },
      "execution_count": null,
      "outputs": [
        {
          "output_type": "stream",
          "name": "stdout",
          "text": [
            "Enter a non-negative integer: 6\n",
            "1 x 1 = 1\n",
            "1 x 2 = 2\n",
            "2 x 3 = 6\n",
            "6 x 4 = 24\n",
            "24 x 5 = 120\n",
            "120 x 6 = 720\n",
            "Factorial of 6 is 720\n"
          ]
        }
      ]
    },
    {
      "cell_type": "markdown",
      "source": [
        " Coding: Implement a Python program to reverse a string using a loop."
      ],
      "metadata": {
        "id": "Sv1a1BQ0E43c"
      }
    },
    {
      "cell_type": "code",
      "source": [
        "# Implement a Python program to reverse a string using a loop\n",
        "\n",
        "text = input(\"Enter a string: \")       # Read a line of text from the user\n",
        "reversed_text = \"\"                     # Start with an empty string to build the reversed result\n",
        "\n",
        "for ch in text:                        # Loop over each character in the original string\n",
        "    reversed_text = ch + reversed_text # Put the current character in front of what we’ve built so far\n",
        "\n",
        "print(\"Reversed:\", reversed_text)      # Display the final reversed string"
      ],
      "metadata": {
        "id": "GoQjwPWGmcG3",
        "colab": {
          "base_uri": "https://localhost:8080/"
        },
        "outputId": "c24f618b-3f6e-4a43-b84f-1338766a99f3"
      },
      "execution_count": null,
      "outputs": [
        {
          "output_type": "stream",
          "name": "stdout",
          "text": [
            "Enter a string: backwards racecar\n",
            "Reversed: racecar sdrawkcab\n"
          ]
        }
      ]
    },
    {
      "cell_type": "code",
      "source": [
        "# Implement a Python program to reverse a string using a loop\n",
        "\n",
        "text = input(\"Enter a string: \")       # Get text from the user\n",
        "reversed_text = \"\"                     # Prepare an empty string to store the reverse\n",
        "\n",
        "for i in range(len(text) - 1, -1, -1): # Loop over indexes from last to first\n",
        "    reversed_text += text[i]           # Append the character at position i to the result\n",
        "\n",
        "print(\"Reversed:\", reversed_text)      # Show the reversed string"
      ],
      "metadata": {
        "id": "tcplBB1OmeV1",
        "colab": {
          "base_uri": "https://localhost:8080/"
        },
        "outputId": "c01e4b0e-9de3-4641-e081-8dc140e3d533"
      },
      "execution_count": null,
      "outputs": [
        {
          "output_type": "stream",
          "name": "stdout",
          "text": [
            "Enter a string: backwards racecar\n",
            "Reversed: racecar sdrawkcab\n"
          ]
        }
      ]
    },
    {
      "cell_type": "markdown",
      "source": [
        "# Functions in Python (3 Questions * 2 = 6)"
      ],
      "metadata": {
        "id": "LLWIoCjqE4_f"
      }
    },
    {
      "cell_type": "markdown",
      "source": [
        "Coding: Write a function that takes a list of numbers and returns the sum of the numbers."
      ],
      "metadata": {
        "id": "JLs-uWS9FRbe"
      }
    },
    {
      "cell_type": "code",
      "source": [
        "# Write a function that takes a list of numbers and returns the sum of the numbers.\n",
        "\n",
        "def sum_numbers(nums): # Define a function that returns the sum of all numbers in nums\n",
        "    total = 0          # Start a running total at 0\n",
        "\n",
        "    for n in nums:     # Loop through each number in the list\n",
        "        total += n     # Add the current number to the running total\n",
        "\n",
        "    return total       # After the loop, return the final total"
      ],
      "metadata": {
        "id": "yIcYMqADKRZi"
      },
      "execution_count": null,
      "outputs": []
    },
    {
      "cell_type": "code",
      "source": [
        "# Use the function with a list\n",
        "data = [1, 2, 3, 4.5]                         # Define a list of numbers to add up\n",
        "print(\"Sum of\", data, \"=\", sum_numbers(data)) # Call sum_numbers on that list and print the result"
      ],
      "metadata": {
        "colab": {
          "base_uri": "https://localhost:8080/"
        },
        "id": "jWt7nEsMKUXF",
        "outputId": "cac4a96e-50c6-4b74-95b9-f47979b591d1"
      },
      "execution_count": null,
      "outputs": [
        {
          "output_type": "stream",
          "name": "stdout",
          "text": [
            "Sum of [1, 2, 3, 4.5] = 10.5\n"
          ]
        }
      ]
    },
    {
      "cell_type": "markdown",
      "source": [
        "Coding: Write a function to find the maximum of three numbers."
      ],
      "metadata": {
        "id": "kFiRQM4UFRql"
      }
    },
    {
      "cell_type": "code",
      "source": [
        "# Write a function to find the maximum of three numbers.\n",
        "\n",
        "def max_of_three(a, b, c): # Define a function that returns the largest of three values\n",
        "    m = a                  # Start by assuming a is the largest\n",
        "\n",
        "    if b > m:              # If b is larger than our current best\n",
        "        m = b              # update m to be b\n",
        "\n",
        "    if c > m:              # If c is larger than the current best\n",
        "        m = c              # update m to be c\n",
        "\n",
        "    return m               # Return the largest value found"
      ],
      "metadata": {
        "id": "siq2KywlL5jI"
      },
      "execution_count": null,
      "outputs": []
    },
    {
      "cell_type": "code",
      "source": [
        "# Call the function with user input\n",
        "a = float(input(\"Enter first number: \"))  # Prompt the user for the first value and convert the text to a float\n",
        "b = float(input(\"Enter second number: \")) # Prompt for the second value and convert to float\n",
        "c = float(input(\"Enter third number: \"))  # Prompt for the third value and convert to float\n",
        "\n",
        "print(\"Maximum:\", max_of_three(a, b, c))  # Call the previously defined function and print the result"
      ],
      "metadata": {
        "colab": {
          "base_uri": "https://localhost:8080/"
        },
        "id": "T93Hg51rMALj",
        "outputId": "616674ef-d624-4017-8904-779e93155303"
      },
      "execution_count": null,
      "outputs": [
        {
          "output_type": "stream",
          "name": "stdout",
          "text": [
            "Enter first number: 9\n",
            "Enter second number: 18\n",
            "Enter third number: 27\n",
            "Maximum: 27.0\n"
          ]
        }
      ]
    },
    {
      "cell_type": "markdown",
      "source": [
        "Coding: Implement a function that takes two lists and returns a list of common elements."
      ],
      "metadata": {
        "id": "kAP-CZstFTwM"
      }
    },
    {
      "cell_type": "code",
      "source": [
        "# Implement a function that takes two lists and returns a list of common elements.\n",
        "\n",
        "def common_elements(list1, list2):      # create  function to return unique items present in both lists keeping list1's order\n",
        "    in_g = set(list2)                   # Convert list2 to a set\n",
        "    seen = set()                        # Track which common items we've already added\n",
        "    result = []                         # location list to collect the common elements in order\n",
        "\n",
        "    for x in list1:                     # Walk through items in list1\n",
        "        if x in in_g and x not in seen: # If x appears in list2 and hasn't been added yet\n",
        "            result.append(x)            # add it to the result\n",
        "            seen.add(x)                 # Mark x as seen so duplicates from list1 aren't repeated\n",
        "\n",
        "    return result                       # Give back the ordered, de-duplicated intersection"
      ],
      "metadata": {
        "id": "qgW0osWqNpFy"
      },
      "execution_count": null,
      "outputs": []
    },
    {
      "cell_type": "code",
      "source": [
        "a = input(\"Enter first list items separated by spaces: \").split()  # Read line one list of strings and split on whitespace\n",
        "b = input(\"Enter second list items separated by spaces: \").split() # Read line two list of strings and split on whitespace\n",
        "print(\"Common elements:\", common_elements(a, b))                   # Print unique common values"
      ],
      "metadata": {
        "colab": {
          "base_uri": "https://localhost:8080/"
        },
        "id": "gp_nE2x_Nyuj",
        "outputId": "3c1fad15-8060-457a-ae2b-21cfa8c8243e"
      },
      "execution_count": null,
      "outputs": [
        {
          "output_type": "stream",
          "name": "stdout",
          "text": [
            "Enter first list items separated by spaces: 2 4 6 7 8 5 9 0 4 6 7 a g 5\n",
            "Enter second list items separated by spaces: g t 5 f 7 h j 2 5 4 3 1 0\n",
            "Common elements: ['2', '4', '7', '5', '0', 'g']\n"
          ]
        }
      ]
    },
    {
      "cell_type": "markdown",
      "source": [
        "# Using Multiple Functions to Solve a Problem (5 Questions * 3 = 15)"
      ],
      "metadata": {
        "id": "n0pX-DWMFVmE"
      }
    },
    {
      "cell_type": "markdown",
      "source": [
        "Coding: Write a program that uses a function to check if a number is prime and another function to print all prime numbers between 1 and 100."
      ],
      "metadata": {
        "id": "Uwlgo7zMFWCe"
      }
    },
    {
      "cell_type": "code",
      "source": [
        "# Write a function to check if a number is prime\n",
        "\n",
        "def is_prime(n):                  # Define a function to decide whether n is prime\n",
        "    if n < 2:                     # Numbers less than 2 are not prime\n",
        "        return False              # Say \"not prime\" for cases were numbers are less than 2\n",
        "\n",
        "    is_prime_sig = True           # Assume n is prime until a divisor is found\n",
        "    d = 2                         # Begin testing possible divisors starting from 2\n",
        "\n",
        "    while d * d <= n:             # Only test up to the square root of n\n",
        "\n",
        "        if n % d == 0:            # If n divides evenly by d then d is a factor\n",
        "            is_prime_sig = False  # Mark n as not prime\n",
        "            break                 # Stop checking more divisors\n",
        "\n",
        "        d += 1                    # Try the next potential divisor\n",
        "    return is_prime_sig           # Return whether n stayed prime"
      ],
      "metadata": {
        "id": "g35t_I8InYbu"
      },
      "execution_count": null,
      "outputs": []
    },
    {
      "cell_type": "code",
      "source": [
        "# Write a function to print all prime numbers between 1 and 100.\n",
        "\n",
        "def print_primes_1_to_100(): # Define a function to print all primes from 1 through 100\n",
        "    for n in range(1, 101):  # Iterate over every integer from 1 to 100\n",
        "\n",
        "        if is_prime(n):      # Use the is_prime function to check each number\n",
        "            print(n)         # Print n if it is prime\n",
        "\n",
        "# Run the printer function\n",
        "print_primes_1_to_100()      # Output all prime numbers between 1 and 100"
      ],
      "metadata": {
        "id": "3TBQk_rbp_dT",
        "colab": {
          "base_uri": "https://localhost:8080/"
        },
        "outputId": "65f65cb1-792a-488a-8b2b-0249795d9fe9"
      },
      "execution_count": null,
      "outputs": [
        {
          "output_type": "stream",
          "name": "stdout",
          "text": [
            "2\n",
            "3\n",
            "5\n",
            "7\n",
            "11\n",
            "13\n",
            "17\n",
            "19\n",
            "23\n",
            "29\n",
            "31\n",
            "37\n",
            "41\n",
            "43\n",
            "47\n",
            "53\n",
            "59\n",
            "61\n",
            "67\n",
            "71\n",
            "73\n",
            "79\n",
            "83\n",
            "89\n",
            "97\n"
          ]
        }
      ]
    },
    {
      "cell_type": "markdown",
      "source": [
        "Coding: Create a Python program that reads a list of numbers, uses a function to find the average, and another function to find the numbers above the average."
      ],
      "metadata": {
        "id": "vBr26rh1FWNm"
      }
    },
    {
      "cell_type": "code",
      "source": [
        "# Write a function to find the average\n",
        "\n",
        "def average_from_sum(total, count):                # Define a function that computes an average from a sum and a count\n",
        "\n",
        "    if count == 0:                                 # If there are zero items\n",
        "        raise ValueError(\"No numbers to average.\") # Signal an error to avoid division by zero\n",
        "\n",
        "    return total / count                           # Otherwise compute and return the average"
      ],
      "metadata": {
        "id": "O7knyBynsxUh"
      },
      "execution_count": null,
      "outputs": []
    },
    {
      "cell_type": "code",
      "source": [
        "# write a function to find the numbers above the average.\n",
        "\n",
        "def above_average(nums, avg):                           # Define a function to filter values above the average\n",
        "    return [x for x in nums if x > avg]                 # Build and return a new list of numbers > avg"
      ],
      "metadata": {
        "id": "FEWCGaOdZnc3"
      },
      "execution_count": null,
      "outputs": []
    },
    {
      "cell_type": "code",
      "source": [
        "try:                                                    # Raise conversion or input errors\n",
        "    n = int(input(\"How many numbers will you enter? \")) # Ask the user how many numbers they will provide & convert to integer\n",
        "\n",
        "    if n <= 0:                                          # If the count is zero or negative\n",
        "        print(\"No numbers provided.\")                   # Print \"No numbers provided.\"\n",
        "\n",
        "    else:                                               # Otherwise proceed to read the numbers\n",
        "        numbers = []                                    # A list to store the entered numbers\n",
        "        total = 0.0                                     # Running sum of all numbers\n",
        "\n",
        "        for i in range(n):                              # Loop exactly n times to read n numbers\n",
        "            val = float(input(f\"Enter number {i+1}: \")) # Prompt for the (i+1) number & convert to float\n",
        "            numbers.append(val)                         # Store the number in the list\n",
        "            total += val                                # Add it to the running total\n",
        "\n",
        "        avg = average_from_sum(total, n)                # Compute the average using the helper function\n",
        "        print(\"Average:\", avg)                          # Print \"Average:\"\n",
        "\n",
        "        above = above_average(numbers, avg)                      # Get all numbers strictly greater than the average\n",
        "        print(\"Numbers above average:\", above)                   # Print \"Numbers above average:\"\n",
        "\n",
        "except ValueError:                                               # If any int or float conversions failed\n",
        "    print(\"Please enter valid integers/floats where requested.\") # print error message"
      ],
      "metadata": {
        "colab": {
          "base_uri": "https://localhost:8080/"
        },
        "id": "2ECGg7eDbJJ2",
        "outputId": "46066439-cfb6-4c84-d5a0-ad75e737d977"
      },
      "execution_count": null,
      "outputs": [
        {
          "output_type": "stream",
          "name": "stdout",
          "text": [
            "How many numbers will you enter? 9\n",
            "Enter number 1: 9\n",
            "Enter number 2: 18\n",
            "Enter number 3: 27\n",
            "Enter number 4: 36\n",
            "Enter number 5: 45\n",
            "Enter number 6: 54\n",
            "Enter number 7: 63\n",
            "Enter number 8: 72\n",
            "Enter number 9: 81\n",
            "Average: 45.0\n",
            "Numbers above average: [54.0, 63.0, 72.0, 81.0]\n"
          ]
        }
      ]
    },
    {
      "cell_type": "markdown",
      "source": [
        "Coding: Write a program that uses a function to read a string and another function to count the number of vowels in the string."
      ],
      "metadata": {
        "id": "RZz_SNHKFWcn"
      }
    },
    {
      "cell_type": "code",
      "source": [
        "# Write a function to read a string\n",
        "\n",
        "def read_string():                           # Define a function to read a line of text from the user\n",
        "    return input('Enter a string of words:') # Prompt the user and return whatever they type"
      ],
      "metadata": {
        "id": "xd2eAxiItpJf"
      },
      "execution_count": null,
      "outputs": []
    },
    {
      "cell_type": "code",
      "source": [
        "# Write a function to count the number of vowels in the string\n",
        "\n",
        "def count_vowels(s):                                                                     # Define a function that counts vowels in a string\n",
        "    count = 0                                                                            # Start a counter at 0\n",
        "    String = s.lower()                                                                   # Convert the whole string to lowercase for easy comparison\n",
        "\n",
        "    for vowel in String:                                                                 # Loop through each character in the string\n",
        "        if vowel == 'a' or vowel == 'e' or vowel == 'i' or vowel == 'o' or vowel == 'u': # Check if there are characters that are a vowel?\n",
        "            count += 1                                                                   # If yes, add 1 to the counter\n",
        "\n",
        "    return count                                                                         # After the loop, return how many vowels were found"
      ],
      "metadata": {
        "id": "uzgXyEoLVAWG"
      },
      "execution_count": null,
      "outputs": []
    },
    {
      "cell_type": "code",
      "source": [
        "text = read_string()                                                     # Call the input function to get the user's text\n",
        "vowel_count = count_vowels(text)                                         # Pass that text to the vowel counter and store the result\n",
        "\n",
        "if vowel_count == 0:                                                     # If no vowels were found\n",
        "    print('No vowels found')                                             # tell the user there were no vowels were found\n",
        "\n",
        "else:                                                                    # Otherwise\n",
        "    print('Total numbers of vowels in string are :' + str(vowel_count)) # Print the total count"
      ],
      "metadata": {
        "colab": {
          "base_uri": "https://localhost:8080/"
        },
        "id": "ZQ05GLGEWVos",
        "outputId": "8dd7fd21-2309-4d61-96b7-c576236ff789"
      },
      "execution_count": null,
      "outputs": [
        {
          "output_type": "stream",
          "name": "stdout",
          "text": [
            "Enter a string of words:some things never change\n",
            "Total numbers of vowels in string are :7\n"
          ]
        }
      ]
    },
    {
      "cell_type": "markdown",
      "source": [
        "Coding: Implement a program that uses a function to read a list of integers and another function to sort the list in ascending order."
      ],
      "metadata": {
        "id": "SY2V1aMwFWnt"
      }
    },
    {
      "cell_type": "code",
      "source": [
        "# Write a function to read a list of integers\n",
        "\n",
        "def read_integers():                          # Define the function\n",
        "    parts = input(\"Enter integers: \").split() # Read a line and split into pieces\n",
        "\n",
        "    nums = []                                 # Empty list to hold integers\n",
        "    for p in parts:                           # Go through each piece of text\n",
        "        nums.append(int(p))                   # Convert to int and add to the list\n",
        "\n",
        "    return nums                               # Give back the full list of integers"
      ],
      "metadata": {
        "id": "_lvKs_z4vMOK"
      },
      "execution_count": null,
      "outputs": []
    },
    {
      "cell_type": "code",
      "source": [
        "# Write a function to sort the list in ascending order\n",
        "# Bubble sort\n",
        "\n",
        "def sort_ascending(nums):                       # Return a new list sorted in ascending order\n",
        "    a = nums[:]                                 # Make a copy so the original list isn't changed\n",
        "    n = len(a)                                  # Cache the length of the list\n",
        "\n",
        "    for i in range(n - 1):                      # Bubble sort pass counter\n",
        "        for j in range(n - 1 - i):              # Compare adjacent pairs up to the last unsorted position\n",
        "            if a[j] > a[j + 1]:                 # If the pair is out of order\n",
        "                a[j], a[j + 1] = a[j + 1], a[j] # swap the elements\n",
        "\n",
        "    return a                                    # Return the sorted copy"
      ],
      "metadata": {
        "id": "mDaKnyskRNWk"
      },
      "execution_count": null,
      "outputs": []
    },
    {
      "cell_type": "code",
      "source": [
        "nums = read_integers()                               # Call the input function to get a list of integers from the user\n",
        "print(\"Sorted (ascending):\", sort_ascending(nums))   # Sort the list and print the result"
      ],
      "metadata": {
        "colab": {
          "base_uri": "https://localhost:8080/"
        },
        "id": "xSnFHyUvRRqi",
        "outputId": "bc4ad5e5-779b-450a-d72d-ba2c6c689bb5"
      },
      "execution_count": null,
      "outputs": [
        {
          "output_type": "stream",
          "name": "stdout",
          "text": [
            "Enter integers: 25 19 55 18 7 9 31 28 74 81\n",
            "Sorted (ascending): [7, 9, 18, 19, 25, 28, 31, 55, 74, 81]\n"
          ]
        }
      ]
    },
    {
      "cell_type": "markdown",
      "source": [
        "Coding: Write a program that uses a function to read a list of strings and another function to return the longest string in the list."
      ],
      "metadata": {
        "id": "tP1l7KIlFWxd"
      }
    },
    {
      "cell_type": "code",
      "source": [
        "# Write a function to read a list of strings\n",
        "\n",
        "def string_list():                  # Define a function named string_list with no parameters\n",
        "    G = input(\"Enter strings: \")    # Read one line of text from the user\n",
        "    words = G.split()               # Split the text on any whitespace into a list of substrings\n",
        "    return words                    # Return the resulting list of words"
      ],
      "metadata": {
        "id": "YdF8l7qltCB7"
      },
      "execution_count": null,
      "outputs": []
    },
    {
      "cell_type": "code",
      "source": [
        "#  Write a function to return the longest string in the list.\n",
        "\n",
        "def longest_string(strings):      # Define a function that returns the longest string in a list\n",
        "    longest = strings[0]          # Assume the first string is the longest to start\n",
        "\n",
        "    for s in strings[1:]:         # Check each of the remaining strings one by one\n",
        "        if len(s) > len(longest): # If the current string is longer than the current longest string\n",
        "            longest = s           # Update the longest to this string\n",
        "\n",
        "    return longest                # Return the longest string found"
      ],
      "metadata": {
        "id": "X5Wxj1GLNCni"
      },
      "execution_count": null,
      "outputs": []
    },
    {
      "cell_type": "code",
      "source": [
        "items = string_list()                               # Call the function to read a list of strings from the user\n",
        "\n",
        "if not items:                                       # If the list is empty\n",
        "    print(\"No strings provided.\")                   # Tell the user that no strings were given\n",
        "\n",
        "else:                                               # Otherwise we have at least one string\n",
        "    print(\"Longest string:\", longest_string(items)) # Compute and print the longest string from the list"
      ],
      "metadata": {
        "id": "F-OjOO24NGgr",
        "colab": {
          "base_uri": "https://localhost:8080/"
        },
        "outputId": "210a03f3-ab76-43ae-ebd9-e39876002f89"
      },
      "execution_count": null,
      "outputs": [
        {
          "output_type": "stream",
          "name": "stdout",
          "text": [
            "Enter strings: my name is Gabriel Tomforde\n",
            "Longest string: Tomforde\n"
          ]
        }
      ]
    }
  ]
}