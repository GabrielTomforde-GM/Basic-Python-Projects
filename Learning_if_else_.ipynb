{
  "cells": [
    {
      "cell_type": "markdown",
      "metadata": {
        "id": "VaINJzApHNcE"
      },
      "source": [
        "Gabriel Tomforde"
      ]
    },
    {
      "cell_type": "markdown",
      "metadata": {
        "id": "8ypPYhtYFX-e"
      },
      "source": [
        "Your mom will let you go to your friends house if you have written 1000 or more words for your term project. Write a program that asks the user how many words they have written and then prints out one of the two following messages, based on the result:\n",
        "\n",
        "  \"Great, you've done your homework. Enjoy time with your friends !\"\n",
        "\n",
        "  \"Sorry, you must stay home and work on your term paper.\"\n",
        "\n",
        " use input function to enter the words"
      ]
    },
    {
      "cell_type": "code",
      "execution_count": null,
      "metadata": {
        "colab": {
          "base_uri": "https://localhost:8080/"
        },
        "id": "MxC-p9coFg9n",
        "outputId": "be33e191-ff4c-43e2-b711-eb78d526e29c"
      },
      "outputs": [
        {
          "name": "stdout",
          "output_type": "stream",
          "text": [
            "how many words have you written900\n",
            "Sorry, you must stay home and work on your term paper.\n"
          ]
        }
      ],
      "source": [
        "word_amount = input(\"how many words have you written\") # Take input as a string\n",
        "word_amount = int(word_amount) # Make input string into integer\n",
        "\n",
        "if word_amount >= 1000: # if the input is greater than or equal to 1000 then\n",
        "  print(\"Great, you've done your homework. Enjoy time with your friends !\") # display congratulatory message\n",
        "\n",
        "else: # if the previous condition was not true\n",
        "  print(\"Sorry, you must stay home and work on your term paper.\") # display consequential message"
      ]
    },
    {
      "cell_type": "code",
      "execution_count": null,
      "metadata": {
        "colab": {
          "base_uri": "https://localhost:8080/"
        },
        "id": "Poc62A5tFwMT",
        "outputId": "a5a6badb-ca4d-4665-966d-d438f8c391ef"
      },
      "outputs": [
        {
          "name": "stdout",
          "output_type": "stream",
          "text": [
            "how many words have you written1200\n",
            "Great, you've done your homework. Enjoy time with your friends !\n"
          ]
        }
      ],
      "source": [
        "word_amount = input(\"how many words have you written\") # Take input as a string\n",
        "word_amount = int(word_amount) # Make input string into integer\n",
        "\n",
        "if word_amount >= 1000: # if the input is greater than or equal to 1000 then\n",
        "  print(\"Great, you've done your homework. Enjoy time with your friends !\") # display congratulatory message\n",
        "\n",
        "else: # if the previous condition was not true\n",
        "  print(\"Sorry, you must stay home and work on your term paper.\") # display consequential message"
      ]
    },
    {
      "cell_type": "markdown",
      "metadata": {
        "id": "GdYjwhdSF-VQ"
      },
      "source": [
        "Your parents pay you 3 dollars for each trash bag full of leaves you rake. If you can fill more than 10 bags in a month, they give you a bonus of 20 dollars. Write a program that asks the user how many bags of leaves they filled in the past month and prints out the total amount of money they made. For example, if someone fills 8 bags in a month, they would get 24. But, if they fill 11 bags in a month, they would get 11 x 3 + 20 = 53."
      ]
    },
    {
      "cell_type": "code",
      "execution_count": null,
      "metadata": {
        "id": "vFYj3-TtGhzJ"
      },
      "outputs": [],
      "source": [
        "bags_of_leaves = input(\"How many bags have you filled this month\") # Take input as a string\n",
        "bags_of_leaves = int(bags_of_leaves) # Make input string into integer\n",
        "\n",
        "if bags_of_leaves > 10: # if the input is greater than 10 then\n",
        "  allowance = 3 * bags_of_leaves + 20 # 3 dollars per bag of leaves + 20 dollars\n",
        "  print(\"your allowance is\", allowance, \"dollars\") # Display allowance for input more than 10\n",
        "else: # if the previous condition was not true\n",
        "  allowance = 3 * bags_of_leaves # 3 dollars per bag of leaves\n",
        "  print(\"your allowance is\", allowance) # Display allowance"
      ]
    }
  ],
  "metadata": {
    "colab": {
      "provenance": []
    },
    "kernelspec": {
      "display_name": "Python 3",
      "name": "python3"
    },
    "language_info": {
      "name": "python"
    }
  },
  "nbformat": 4,
  "nbformat_minor": 0
}
