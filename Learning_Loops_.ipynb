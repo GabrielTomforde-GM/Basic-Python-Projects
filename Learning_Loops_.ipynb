{
  "nbformat": 4,
  "nbformat_minor": 0,
  "metadata": {
    "colab": {
      "provenance": []
    },
    "kernelspec": {
      "name": "python3",
      "display_name": "Python 3"
    },
    "language_info": {
      "name": "python"
    }
  },
  "cells": [
    {
      "cell_type": "code",
      "execution_count": null,
      "metadata": {
        "colab": {
          "base_uri": "https://localhost:8080/"
        },
        "id": "OV18eBnEBJ6C",
        "outputId": "dda3cab8-fb18-4078-809b-9602b9967ea5"
      },
      "outputs": [
        {
          "output_type": "stream",
          "name": "stdout",
          "text": [
            "-10\n",
            "-9\n",
            "-8\n",
            "-7\n",
            "-6\n",
            "-5\n",
            "-4\n",
            "-3\n",
            "-2\n",
            "-1\n"
          ]
        }
      ],
      "source": [
        "# Start for loop that generates numbers starting at -10 and ending -1\n",
        "for i in range(-10, 0):\n",
        "    print(i) # print value of i during each iteration of the loop\n"
      ]
    },
    {
      "cell_type": "code",
      "source": [
        "# Prompt the user to enter a number and convert it to an integer\n",
        "num = int(input(\"Enter a number to find its factorial: \"))\n",
        "\n",
        "# Initialize variable for factorial\n",
        "factorial = 1\n",
        "\n",
        "# Handle negative input\n",
        "if num < 0:\n",
        "    print(\"Factorial does not exist for negative numbers.\")\n",
        "\n",
        "# Handle case where number is 0\n",
        "elif num == 0:\n",
        "    print(\"The factorial of 0 is 1.\")\n",
        "\n",
        "# Calculate factorial for positive numbers\n",
        "else:\n",
        "    # Multiply all integers from 1 to num\n",
        "    for i in range(1, num + 1):\n",
        "        factorial *= i  # Update factorial each step\n",
        "\n",
        "    # Print the final factorial result\n",
        "    print(\"The factorial of\", num, \"is\", factorial)\n"
      ],
      "metadata": {
        "colab": {
          "base_uri": "https://localhost:8080/"
        },
        "id": "dL0giwJkN2To",
        "outputId": "5fa5a9fb-1f2a-4627-f105-a40fa93b7b19"
      },
      "execution_count": null,
      "outputs": [
        {
          "output_type": "stream",
          "name": "stdout",
          "text": [
            "Enter a number to find its factorial: 9\n",
            "The factorial of 9 is 362880\n"
          ]
        }
      ]
    },
    {
      "cell_type": "code",
      "source": [
        "# Ask the user to input a number and convert it to an integer\n",
        "num = int(input(\"Enter a number to print its multiplication table: \"))\n",
        "\n",
        "# Initialize the counter variable\n",
        "i = 1\n",
        "\n",
        "# Use a while loop to print the multiplication table from 1 to 10\n",
        "while i <= 10:\n",
        "    table = num * i  # Calculate product of num multiplied by i\n",
        "    print(num, \"*\", i, \"=\", table)  # Print the formatted multiplication line\n",
        "    i += 1  # Increment i to move to the next row in the table"
      ],
      "metadata": {
        "id": "ohszTLnRPJw1"
      },
      "execution_count": null,
      "outputs": []
    }
  ]
}