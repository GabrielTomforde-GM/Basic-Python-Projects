{
  "nbformat": 4,
  "nbformat_minor": 0,
  "metadata": {
    "colab": {
      "provenance": []
    },
    "kernelspec": {
      "name": "python3",
      "display_name": "Python 3"
    },
    "language_info": {
      "name": "python"
    }
  },
  "cells": [
    {
      "cell_type": "markdown",
      "source": [
        "Error handling is essential in programming because it allows developers to find, anticipate, and manage unexpected issues that occur during program execution. Without proper error handling, a program might crash or produce incorrect results which would lead to a poor user experience and potentially the loss of data.\n"
      ],
      "metadata": {
        "id": "JNjch3pwQHie"
      }
    },
    {
      "cell_type": "markdown",
      "source": [
        "syntax errors occur when the written code violates the grammatical rules of the programming language and the meaning cannot be understood because the structure is incorrect."
      ],
      "metadata": {
        "id": "Lhi3GK1ES1gz"
      }
    },
    {
      "cell_type": "markdown",
      "source": [
        "Runtime errors happen after the program has successfully passed the syntax check and has started running. These errors occur when the program encounters an operation that is impossible to complete, such as dividing by zero, accessing a file that does not exist, or referencing a variable that has not been defined."
      ],
      "metadata": {
        "id": "vb6JUkE-S4W0"
      }
    },
    {
      "cell_type": "markdown",
      "source": [
        "Logical errors are the most difficult to detect because the program runs without crashing, but it produces incorrect or unintended results. These errors occur when the logic or reasoning behind the code is flawed\n"
      ],
      "metadata": {
        "id": "lf5LMBJgS_N8"
      }
    },
    {
      "cell_type": "markdown",
      "source": [
        "Exceptions are special objects in Python that signal an error has occurred during program execution. They are triggered when an error is detected, and can be handled to prevent program termination. They differ from standard errors because an exception is Python's specific mechanism for handling runtime errors and a standard error is the general term for any issue in a program. Syntax errors stop the program before it runs, but exceptions occur during execution and can be intercepted using try/except blocks.\n"
      ],
      "metadata": {
        "id": "9jdoyJbBUzwY"
      }
    },
    {
      "cell_type": "markdown",
      "source": [
        "# Exersise 1 Divide By Zero Error"
      ],
      "metadata": {
        "id": "MfrFXQYBYOQT"
      }
    },
    {
      "cell_type": "code",
      "execution_count": null,
      "metadata": {
        "colab": {
          "base_uri": "https://localhost:8080/"
        },
        "id": "VIjTYeP4P97E",
        "outputId": "d84af785-d189-4aa2-8daf-b3a44fc1acfd"
      },
      "outputs": [
        {
          "output_type": "stream",
          "name": "stdout",
          "text": [
            "Enter the numerator: 5\n",
            "Enter the denominator: 2\n",
            "The result of 5.0 / 2.0 is 2.5\n"
          ]
        }
      ],
      "source": [
        "def divide_numbers():\n",
        "    # Prompt the user for the numerator and store it as a float\n",
        "    numerator = float(input(\"Enter the numerator: \"))\n",
        "\n",
        "    # Loop until a valid denominator is entered\n",
        "    while True:\n",
        "        try:\n",
        "            # Prompt the user for the denominator and store it as a float\n",
        "            denominator = float(input(\"Enter the denominator: \"))\n",
        "\n",
        "            # Attempt the division\n",
        "            result = numerator / denominator\n",
        "\n",
        "        except ZeroDivisionError:\n",
        "            # Error-handling mechanism 1 handle divide by zero errors\n",
        "            # If denominator is zero this block runs\n",
        "            print(\"Error: Cannot divide by zero. Please enter a non-zero denominator.\")\n",
        "            continue  # Ask for denominator again\n",
        "\n",
        "        except ValueError:\n",
        "            # Error-handling mechanism 2 handle invalid numeric input\n",
        "            # If the input is not a number this block runs\n",
        "            print(\"Error: Please enter a valid number.\")\n",
        "            continue  # Ask for denominator again\n",
        "\n",
        "        else:\n",
        "            # No errors occurred display the result\n",
        "            print(\"The result of\", numerator, \"/\", denominator, \"is\", result)\n",
        "            break  # Exit loop once a valid division is done\n",
        "\n",
        "# Call the function to execute the program\n",
        "divide_numbers()"
      ]
    },
    {
      "cell_type": "markdown",
      "source": [
        "# Exercise 2 File Not Found Error"
      ],
      "metadata": {
        "id": "Ok9hbCRAYYpv"
      }
    },
    {
      "cell_type": "code",
      "source": [
        "def open_file():\n",
        "    # Loop until a valid file is successfully opened\n",
        "    while True:\n",
        "        # Prompt the user to enter the file name\n",
        "        filename = input(\"Enter the filename to open: \")\n",
        "\n",
        "        try:\n",
        "            # Attempt to open the file in read mode (\"r\")\n",
        "            file = open(filename, \"r\")\n",
        "\n",
        "        except FileNotFoundError:\n",
        "            # Error-handling mechanism 1 handle missing file errors\n",
        "            # This block runs if the file does not exist in the directory\n",
        "            print(\"Error: File not found. Please enter a valid filename.\")\n",
        "            continue  # Ask for filename again\n",
        "\n",
        "        except PermissionError:\n",
        "            # Error-handling mechanism 2 handle permission restriction errors\n",
        "            # This block runs if the program is not allowed to open the file\n",
        "            print(\"Error: Permission denied. Please choose a file you can access.\")\n",
        "            continue  # Ask for filename again\n",
        "\n",
        "        else:\n",
        "            # If no error occurred, read and display file contents\n",
        "            print(\"File Contents\")\n",
        "            contents = file.read()\n",
        "            print(contents)\n",
        "\n",
        "            # Close the file after reading to free system resources\n",
        "            file.close()\n",
        "            break  # Exit the loop because the file was successfully read\n",
        "\n",
        "# Call the function to execute the program\n",
        "open_file()"
      ],
      "metadata": {
        "colab": {
          "base_uri": "https://localhost:8080/",
          "height": 407
        },
        "id": "wr58rNJ8Wq2-",
        "outputId": "e8a36cb1-6291-419b-adec-a8ff8db55f84"
      },
      "execution_count": null,
      "outputs": [
        {
          "output_type": "stream",
          "name": "stdout",
          "text": [
            "Enter the filename to open: f\n",
            "Error: File not found. Please enter a valid filename.\n",
            "Enter the filename to open: File full of errors\n",
            "Error: File not found. Please enter a valid filename.\n"
          ]
        },
        {
          "output_type": "error",
          "ename": "KeyboardInterrupt",
          "evalue": "Interrupted by user",
          "traceback": [
            "\u001b[0;31m---------------------------------------------------------------------------\u001b[0m",
            "\u001b[0;31mKeyboardInterrupt\u001b[0m                         Traceback (most recent call last)",
            "\u001b[0;32m/tmp/ipython-input-3659474214.py\u001b[0m in \u001b[0;36m<cell line: 0>\u001b[0;34m()\u001b[0m\n\u001b[1;32m     32\u001b[0m \u001b[0;34m\u001b[0m\u001b[0m\n\u001b[1;32m     33\u001b[0m \u001b[0;31m# Call the function to execute the program\u001b[0m\u001b[0;34m\u001b[0m\u001b[0;34m\u001b[0m\u001b[0m\n\u001b[0;32m---> 34\u001b[0;31m \u001b[0mopen_file\u001b[0m\u001b[0;34m(\u001b[0m\u001b[0;34m)\u001b[0m\u001b[0;34m\u001b[0m\u001b[0;34m\u001b[0m\u001b[0m\n\u001b[0m",
            "\u001b[0;32m/tmp/ipython-input-3659474214.py\u001b[0m in \u001b[0;36mopen_file\u001b[0;34m()\u001b[0m\n\u001b[1;32m      3\u001b[0m     \u001b[0;32mwhile\u001b[0m \u001b[0;32mTrue\u001b[0m\u001b[0;34m:\u001b[0m\u001b[0;34m\u001b[0m\u001b[0;34m\u001b[0m\u001b[0m\n\u001b[1;32m      4\u001b[0m         \u001b[0;31m# Prompt the user to enter the file name\u001b[0m\u001b[0;34m\u001b[0m\u001b[0;34m\u001b[0m\u001b[0m\n\u001b[0;32m----> 5\u001b[0;31m         \u001b[0mfilename\u001b[0m \u001b[0;34m=\u001b[0m \u001b[0minput\u001b[0m\u001b[0;34m(\u001b[0m\u001b[0;34m\"Enter the filename to open: \"\u001b[0m\u001b[0;34m)\u001b[0m\u001b[0;34m\u001b[0m\u001b[0;34m\u001b[0m\u001b[0m\n\u001b[0m\u001b[1;32m      6\u001b[0m \u001b[0;34m\u001b[0m\u001b[0m\n\u001b[1;32m      7\u001b[0m         \u001b[0;32mtry\u001b[0m\u001b[0;34m:\u001b[0m\u001b[0;34m\u001b[0m\u001b[0;34m\u001b[0m\u001b[0m\n",
            "\u001b[0;32m/usr/local/lib/python3.11/dist-packages/ipykernel/kernelbase.py\u001b[0m in \u001b[0;36mraw_input\u001b[0;34m(self, prompt)\u001b[0m\n\u001b[1;32m   1175\u001b[0m                 \u001b[0;34m\"raw_input was called, but this frontend does not support input requests.\"\u001b[0m\u001b[0;34m\u001b[0m\u001b[0;34m\u001b[0m\u001b[0m\n\u001b[1;32m   1176\u001b[0m             )\n\u001b[0;32m-> 1177\u001b[0;31m         return self._input_request(\n\u001b[0m\u001b[1;32m   1178\u001b[0m             \u001b[0mstr\u001b[0m\u001b[0;34m(\u001b[0m\u001b[0mprompt\u001b[0m\u001b[0;34m)\u001b[0m\u001b[0;34m,\u001b[0m\u001b[0;34m\u001b[0m\u001b[0;34m\u001b[0m\u001b[0m\n\u001b[1;32m   1179\u001b[0m             \u001b[0mself\u001b[0m\u001b[0;34m.\u001b[0m\u001b[0m_parent_ident\u001b[0m\u001b[0;34m[\u001b[0m\u001b[0;34m\"shell\"\u001b[0m\u001b[0;34m]\u001b[0m\u001b[0;34m,\u001b[0m\u001b[0;34m\u001b[0m\u001b[0;34m\u001b[0m\u001b[0m\n",
            "\u001b[0;32m/usr/local/lib/python3.11/dist-packages/ipykernel/kernelbase.py\u001b[0m in \u001b[0;36m_input_request\u001b[0;34m(self, prompt, ident, parent, password)\u001b[0m\n\u001b[1;32m   1217\u001b[0m             \u001b[0;32mexcept\u001b[0m \u001b[0mKeyboardInterrupt\u001b[0m\u001b[0;34m:\u001b[0m\u001b[0;34m\u001b[0m\u001b[0;34m\u001b[0m\u001b[0m\n\u001b[1;32m   1218\u001b[0m                 \u001b[0;31m# re-raise KeyboardInterrupt, to truncate traceback\u001b[0m\u001b[0;34m\u001b[0m\u001b[0;34m\u001b[0m\u001b[0m\n\u001b[0;32m-> 1219\u001b[0;31m                 \u001b[0;32mraise\u001b[0m \u001b[0mKeyboardInterrupt\u001b[0m\u001b[0;34m(\u001b[0m\u001b[0;34m\"Interrupted by user\"\u001b[0m\u001b[0;34m)\u001b[0m \u001b[0;32mfrom\u001b[0m \u001b[0;32mNone\u001b[0m\u001b[0;34m\u001b[0m\u001b[0;34m\u001b[0m\u001b[0m\n\u001b[0m\u001b[1;32m   1220\u001b[0m             \u001b[0;32mexcept\u001b[0m \u001b[0mException\u001b[0m\u001b[0;34m:\u001b[0m\u001b[0;34m\u001b[0m\u001b[0;34m\u001b[0m\u001b[0m\n\u001b[1;32m   1221\u001b[0m                 \u001b[0mself\u001b[0m\u001b[0;34m.\u001b[0m\u001b[0mlog\u001b[0m\u001b[0;34m.\u001b[0m\u001b[0mwarning\u001b[0m\u001b[0;34m(\u001b[0m\u001b[0;34m\"Invalid Message:\"\u001b[0m\u001b[0;34m,\u001b[0m \u001b[0mexc_info\u001b[0m\u001b[0;34m=\u001b[0m\u001b[0;32mTrue\u001b[0m\u001b[0;34m)\u001b[0m\u001b[0;34m\u001b[0m\u001b[0;34m\u001b[0m\u001b[0m\n",
            "\u001b[0;31mKeyboardInterrupt\u001b[0m: Interrupted by user"
          ]
        }
      ]
    },
    {
      "cell_type": "markdown",
      "source": [
        "# Exercise 3 ValueError Exception"
      ],
      "metadata": {
        "id": "oF9AdnPpYds2"
      }
    },
    {
      "cell_type": "code",
      "source": [
        "def get_integer():\n",
        "    # Loop until the user provides a valid integer\n",
        "    while True:\n",
        "        try:\n",
        "            # Prompt the user to enter an integer and attempt to convert input to int\n",
        "            number = int(input(\"Enter an integer: \"))\n",
        "\n",
        "        except ValueError:\n",
        "            # Error-handling mechanism handle invalid integer input\n",
        "            # This block runs if the user types something that cannot be converted to int\n",
        "            print(\"Error: That is not a valid integer. Please try again.\")\n",
        "            continue  # Ask again for input\n",
        "\n",
        "        else:\n",
        "            # If no error occurs print the valid integer\n",
        "            print(f\"You entered the integer: {number}\")\n",
        "            break  # Exit the loop once a valid integer is entered\n",
        "\n",
        "# Call the function to run the program\n",
        "get_integer()"
      ],
      "metadata": {
        "id": "6hIpv5dcXsUU"
      },
      "execution_count": null,
      "outputs": []
    },
    {
      "cell_type": "markdown",
      "source": [
        "# Exercise 4 Custom Exception Handling"
      ],
      "metadata": {
        "id": "A-mrdmblYlgY"
      }
    },
    {
      "cell_type": "code",
      "source": [
        "# Define a custom exception class that inherits from Python's built-in Exception class\n",
        "class NegativeNumberError(Exception):\n",
        "\n",
        "  def positive_number():\n",
        "    # Loop until the user provides a valid positive number\n",
        "    while True:\n",
        "        try:\n",
        "            # Prompt the user for a number and convert it to float\n",
        "            number = float(input(\"Enter a positive number: \"))\n",
        "\n",
        "            # Check if the number is negative\n",
        "            if number < 0:\n",
        "                # Error-handling mechanism 1 raise custom exception if the number is negative\n",
        "                raise NegativeNumberError(\"Error: You entered a negative number.\")\n",
        "\n",
        "        except ValueError:\n",
        "            # Error-handling mechanism 2 handle non-numeric input\n",
        "            # Runs if the input cannot be converted to a float\n",
        "            print(\"Error: Please enter a valid numeric value.\")\n",
        "            continue  # Ask again for input\n",
        "\n",
        "        except NegativeNumberError as e:\n",
        "            # Error-handling mechanism 3 handle the custom NegativeNumberError\n",
        "            # Runs if a negative number is entered\n",
        "            print(e)  # Display the custom error message\n",
        "            continue  # Ask again for input\n",
        "\n",
        "        else:\n",
        "            # If no error occurs, display the valid positive number\n",
        "            print(\"You entered a valid positive number:\", number)\n",
        "            break  # Exit loop once valid input is provided\n",
        "\n",
        "\n",
        "  # Call the function to execute the program\n",
        "  positive_number()"
      ],
      "metadata": {
        "colab": {
          "base_uri": "https://localhost:8080/"
        },
        "id": "kL5Z4AGDXv-q",
        "outputId": "93041fe4-7fbb-4a81-ba95-16d280d6b9bd"
      },
      "execution_count": null,
      "outputs": [
        {
          "output_type": "stream",
          "name": "stdout",
          "text": [
            "Enter a positive number: -5\n",
            "Error: You entered a negative number.\n",
            "Enter a positive number: a\n",
            "Error: Please enter a valid numeric value.\n",
            "Enter a positive number: 10\n",
            "You entered a valid positive number: 10.0\n"
          ]
        }
      ]
    }
  ]
}